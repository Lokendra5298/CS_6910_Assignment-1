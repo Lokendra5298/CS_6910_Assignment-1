{
  "nbformat": 4,
  "nbformat_minor": 0,
  "metadata": {
    "colab": {
      "provenance": []
    },
    "kernelspec": {
      "name": "python3",
      "display_name": "Python 3"
    },
    "language_info": {
      "name": "python"
    },
    "widgets": {
      "application/vnd.jupyter.widget-state+json": {
        "86e220bbd4cb490281ff16285f1ba11a": {
          "model_module": "@jupyter-widgets/controls",
          "model_name": "VBoxModel",
          "model_module_version": "1.5.0",
          "state": {
            "_dom_classes": [],
            "_model_module": "@jupyter-widgets/controls",
            "_model_module_version": "1.5.0",
            "_model_name": "VBoxModel",
            "_view_count": null,
            "_view_module": "@jupyter-widgets/controls",
            "_view_module_version": "1.5.0",
            "_view_name": "VBoxView",
            "box_style": "",
            "children": [
              "IPY_MODEL_d664a444e0ca4210bd404e8a3f8164d3",
              "IPY_MODEL_79a1a28222704e39912ffd5c737cebbf"
            ],
            "layout": "IPY_MODEL_efa586b11ba948169d73ca4ced7bdbca"
          }
        },
        "d664a444e0ca4210bd404e8a3f8164d3": {
          "model_module": "@jupyter-widgets/controls",
          "model_name": "LabelModel",
          "model_module_version": "1.5.0",
          "state": {
            "_dom_classes": [],
            "_model_module": "@jupyter-widgets/controls",
            "_model_module_version": "1.5.0",
            "_model_name": "LabelModel",
            "_view_count": null,
            "_view_module": "@jupyter-widgets/controls",
            "_view_module_version": "1.5.0",
            "_view_name": "LabelView",
            "description": "",
            "description_tooltip": null,
            "layout": "IPY_MODEL_dc2157038bc54e7da12f2c15a4a72bc3",
            "placeholder": "​",
            "style": "IPY_MODEL_ed9e1af89dfa42b49639a9dd32b991f8",
            "value": "Waiting for wandb.init()...\r"
          }
        },
        "79a1a28222704e39912ffd5c737cebbf": {
          "model_module": "@jupyter-widgets/controls",
          "model_name": "FloatProgressModel",
          "model_module_version": "1.5.0",
          "state": {
            "_dom_classes": [],
            "_model_module": "@jupyter-widgets/controls",
            "_model_module_version": "1.5.0",
            "_model_name": "FloatProgressModel",
            "_view_count": null,
            "_view_module": "@jupyter-widgets/controls",
            "_view_module_version": "1.5.0",
            "_view_name": "ProgressView",
            "bar_style": "",
            "description": "",
            "description_tooltip": null,
            "layout": "IPY_MODEL_b527ef653d5e456997fc2dfa3de7988a",
            "max": 1,
            "min": 0,
            "orientation": "horizontal",
            "style": "IPY_MODEL_0f1b01aeed5043218bd99fb8ad769cdd",
            "value": 1
          }
        },
        "efa586b11ba948169d73ca4ced7bdbca": {
          "model_module": "@jupyter-widgets/base",
          "model_name": "LayoutModel",
          "model_module_version": "1.2.0",
          "state": {
            "_model_module": "@jupyter-widgets/base",
            "_model_module_version": "1.2.0",
            "_model_name": "LayoutModel",
            "_view_count": null,
            "_view_module": "@jupyter-widgets/base",
            "_view_module_version": "1.2.0",
            "_view_name": "LayoutView",
            "align_content": null,
            "align_items": null,
            "align_self": null,
            "border": null,
            "bottom": null,
            "display": null,
            "flex": null,
            "flex_flow": null,
            "grid_area": null,
            "grid_auto_columns": null,
            "grid_auto_flow": null,
            "grid_auto_rows": null,
            "grid_column": null,
            "grid_gap": null,
            "grid_row": null,
            "grid_template_areas": null,
            "grid_template_columns": null,
            "grid_template_rows": null,
            "height": null,
            "justify_content": null,
            "justify_items": null,
            "left": null,
            "margin": null,
            "max_height": null,
            "max_width": null,
            "min_height": null,
            "min_width": null,
            "object_fit": null,
            "object_position": null,
            "order": null,
            "overflow": null,
            "overflow_x": null,
            "overflow_y": null,
            "padding": null,
            "right": null,
            "top": null,
            "visibility": null,
            "width": null
          }
        },
        "dc2157038bc54e7da12f2c15a4a72bc3": {
          "model_module": "@jupyter-widgets/base",
          "model_name": "LayoutModel",
          "model_module_version": "1.2.0",
          "state": {
            "_model_module": "@jupyter-widgets/base",
            "_model_module_version": "1.2.0",
            "_model_name": "LayoutModel",
            "_view_count": null,
            "_view_module": "@jupyter-widgets/base",
            "_view_module_version": "1.2.0",
            "_view_name": "LayoutView",
            "align_content": null,
            "align_items": null,
            "align_self": null,
            "border": null,
            "bottom": null,
            "display": null,
            "flex": null,
            "flex_flow": null,
            "grid_area": null,
            "grid_auto_columns": null,
            "grid_auto_flow": null,
            "grid_auto_rows": null,
            "grid_column": null,
            "grid_gap": null,
            "grid_row": null,
            "grid_template_areas": null,
            "grid_template_columns": null,
            "grid_template_rows": null,
            "height": null,
            "justify_content": null,
            "justify_items": null,
            "left": null,
            "margin": null,
            "max_height": null,
            "max_width": null,
            "min_height": null,
            "min_width": null,
            "object_fit": null,
            "object_position": null,
            "order": null,
            "overflow": null,
            "overflow_x": null,
            "overflow_y": null,
            "padding": null,
            "right": null,
            "top": null,
            "visibility": null,
            "width": null
          }
        },
        "ed9e1af89dfa42b49639a9dd32b991f8": {
          "model_module": "@jupyter-widgets/controls",
          "model_name": "DescriptionStyleModel",
          "model_module_version": "1.5.0",
          "state": {
            "_model_module": "@jupyter-widgets/controls",
            "_model_module_version": "1.5.0",
            "_model_name": "DescriptionStyleModel",
            "_view_count": null,
            "_view_module": "@jupyter-widgets/base",
            "_view_module_version": "1.2.0",
            "_view_name": "StyleView",
            "description_width": ""
          }
        },
        "b527ef653d5e456997fc2dfa3de7988a": {
          "model_module": "@jupyter-widgets/base",
          "model_name": "LayoutModel",
          "model_module_version": "1.2.0",
          "state": {
            "_model_module": "@jupyter-widgets/base",
            "_model_module_version": "1.2.0",
            "_model_name": "LayoutModel",
            "_view_count": null,
            "_view_module": "@jupyter-widgets/base",
            "_view_module_version": "1.2.0",
            "_view_name": "LayoutView",
            "align_content": null,
            "align_items": null,
            "align_self": null,
            "border": null,
            "bottom": null,
            "display": null,
            "flex": null,
            "flex_flow": null,
            "grid_area": null,
            "grid_auto_columns": null,
            "grid_auto_flow": null,
            "grid_auto_rows": null,
            "grid_column": null,
            "grid_gap": null,
            "grid_row": null,
            "grid_template_areas": null,
            "grid_template_columns": null,
            "grid_template_rows": null,
            "height": null,
            "justify_content": null,
            "justify_items": null,
            "left": null,
            "margin": null,
            "max_height": null,
            "max_width": null,
            "min_height": null,
            "min_width": null,
            "object_fit": null,
            "object_position": null,
            "order": null,
            "overflow": null,
            "overflow_x": null,
            "overflow_y": null,
            "padding": null,
            "right": null,
            "top": null,
            "visibility": null,
            "width": null
          }
        },
        "0f1b01aeed5043218bd99fb8ad769cdd": {
          "model_module": "@jupyter-widgets/controls",
          "model_name": "ProgressStyleModel",
          "model_module_version": "1.5.0",
          "state": {
            "_model_module": "@jupyter-widgets/controls",
            "_model_module_version": "1.5.0",
            "_model_name": "ProgressStyleModel",
            "_view_count": null,
            "_view_module": "@jupyter-widgets/base",
            "_view_module_version": "1.2.0",
            "_view_name": "StyleView",
            "bar_color": null,
            "description_width": ""
          }
        },
        "0b8b276324784584874d7dd8e7830765": {
          "model_module": "@jupyter-widgets/controls",
          "model_name": "VBoxModel",
          "model_module_version": "1.5.0",
          "state": {
            "_dom_classes": [],
            "_model_module": "@jupyter-widgets/controls",
            "_model_module_version": "1.5.0",
            "_model_name": "VBoxModel",
            "_view_count": null,
            "_view_module": "@jupyter-widgets/controls",
            "_view_module_version": "1.5.0",
            "_view_name": "VBoxView",
            "box_style": "",
            "children": [
              "IPY_MODEL_438a3e0d66f44754a7b8ce61f5ef2473",
              "IPY_MODEL_c973c398cc8e4f31865492678091ecad"
            ],
            "layout": "IPY_MODEL_af8f84b6e1ac41839a934cf5e87bd7e1"
          }
        },
        "438a3e0d66f44754a7b8ce61f5ef2473": {
          "model_module": "@jupyter-widgets/controls",
          "model_name": "LabelModel",
          "model_module_version": "1.5.0",
          "state": {
            "_dom_classes": [],
            "_model_module": "@jupyter-widgets/controls",
            "_model_module_version": "1.5.0",
            "_model_name": "LabelModel",
            "_view_count": null,
            "_view_module": "@jupyter-widgets/controls",
            "_view_module_version": "1.5.0",
            "_view_name": "LabelView",
            "description": "",
            "description_tooltip": null,
            "layout": "IPY_MODEL_fd531e79562a451785367a8725e7550e",
            "placeholder": "​",
            "style": "IPY_MODEL_136397d65fe94da88a416beaed2e4083",
            "value": "0.011 MB of 0.011 MB uploaded\r"
          }
        },
        "c973c398cc8e4f31865492678091ecad": {
          "model_module": "@jupyter-widgets/controls",
          "model_name": "FloatProgressModel",
          "model_module_version": "1.5.0",
          "state": {
            "_dom_classes": [],
            "_model_module": "@jupyter-widgets/controls",
            "_model_module_version": "1.5.0",
            "_model_name": "FloatProgressModel",
            "_view_count": null,
            "_view_module": "@jupyter-widgets/controls",
            "_view_module_version": "1.5.0",
            "_view_name": "ProgressView",
            "bar_style": "",
            "description": "",
            "description_tooltip": null,
            "layout": "IPY_MODEL_0ffe1695e1f24f2aa395f5713cd90281",
            "max": 1,
            "min": 0,
            "orientation": "horizontal",
            "style": "IPY_MODEL_fb834c48db48456bbb2094ed52fcacd6",
            "value": 1
          }
        },
        "af8f84b6e1ac41839a934cf5e87bd7e1": {
          "model_module": "@jupyter-widgets/base",
          "model_name": "LayoutModel",
          "model_module_version": "1.2.0",
          "state": {
            "_model_module": "@jupyter-widgets/base",
            "_model_module_version": "1.2.0",
            "_model_name": "LayoutModel",
            "_view_count": null,
            "_view_module": "@jupyter-widgets/base",
            "_view_module_version": "1.2.0",
            "_view_name": "LayoutView",
            "align_content": null,
            "align_items": null,
            "align_self": null,
            "border": null,
            "bottom": null,
            "display": null,
            "flex": null,
            "flex_flow": null,
            "grid_area": null,
            "grid_auto_columns": null,
            "grid_auto_flow": null,
            "grid_auto_rows": null,
            "grid_column": null,
            "grid_gap": null,
            "grid_row": null,
            "grid_template_areas": null,
            "grid_template_columns": null,
            "grid_template_rows": null,
            "height": null,
            "justify_content": null,
            "justify_items": null,
            "left": null,
            "margin": null,
            "max_height": null,
            "max_width": null,
            "min_height": null,
            "min_width": null,
            "object_fit": null,
            "object_position": null,
            "order": null,
            "overflow": null,
            "overflow_x": null,
            "overflow_y": null,
            "padding": null,
            "right": null,
            "top": null,
            "visibility": null,
            "width": null
          }
        },
        "fd531e79562a451785367a8725e7550e": {
          "model_module": "@jupyter-widgets/base",
          "model_name": "LayoutModel",
          "model_module_version": "1.2.0",
          "state": {
            "_model_module": "@jupyter-widgets/base",
            "_model_module_version": "1.2.0",
            "_model_name": "LayoutModel",
            "_view_count": null,
            "_view_module": "@jupyter-widgets/base",
            "_view_module_version": "1.2.0",
            "_view_name": "LayoutView",
            "align_content": null,
            "align_items": null,
            "align_self": null,
            "border": null,
            "bottom": null,
            "display": null,
            "flex": null,
            "flex_flow": null,
            "grid_area": null,
            "grid_auto_columns": null,
            "grid_auto_flow": null,
            "grid_auto_rows": null,
            "grid_column": null,
            "grid_gap": null,
            "grid_row": null,
            "grid_template_areas": null,
            "grid_template_columns": null,
            "grid_template_rows": null,
            "height": null,
            "justify_content": null,
            "justify_items": null,
            "left": null,
            "margin": null,
            "max_height": null,
            "max_width": null,
            "min_height": null,
            "min_width": null,
            "object_fit": null,
            "object_position": null,
            "order": null,
            "overflow": null,
            "overflow_x": null,
            "overflow_y": null,
            "padding": null,
            "right": null,
            "top": null,
            "visibility": null,
            "width": null
          }
        },
        "136397d65fe94da88a416beaed2e4083": {
          "model_module": "@jupyter-widgets/controls",
          "model_name": "DescriptionStyleModel",
          "model_module_version": "1.5.0",
          "state": {
            "_model_module": "@jupyter-widgets/controls",
            "_model_module_version": "1.5.0",
            "_model_name": "DescriptionStyleModel",
            "_view_count": null,
            "_view_module": "@jupyter-widgets/base",
            "_view_module_version": "1.2.0",
            "_view_name": "StyleView",
            "description_width": ""
          }
        },
        "0ffe1695e1f24f2aa395f5713cd90281": {
          "model_module": "@jupyter-widgets/base",
          "model_name": "LayoutModel",
          "model_module_version": "1.2.0",
          "state": {
            "_model_module": "@jupyter-widgets/base",
            "_model_module_version": "1.2.0",
            "_model_name": "LayoutModel",
            "_view_count": null,
            "_view_module": "@jupyter-widgets/base",
            "_view_module_version": "1.2.0",
            "_view_name": "LayoutView",
            "align_content": null,
            "align_items": null,
            "align_self": null,
            "border": null,
            "bottom": null,
            "display": null,
            "flex": null,
            "flex_flow": null,
            "grid_area": null,
            "grid_auto_columns": null,
            "grid_auto_flow": null,
            "grid_auto_rows": null,
            "grid_column": null,
            "grid_gap": null,
            "grid_row": null,
            "grid_template_areas": null,
            "grid_template_columns": null,
            "grid_template_rows": null,
            "height": null,
            "justify_content": null,
            "justify_items": null,
            "left": null,
            "margin": null,
            "max_height": null,
            "max_width": null,
            "min_height": null,
            "min_width": null,
            "object_fit": null,
            "object_position": null,
            "order": null,
            "overflow": null,
            "overflow_x": null,
            "overflow_y": null,
            "padding": null,
            "right": null,
            "top": null,
            "visibility": null,
            "width": null
          }
        },
        "fb834c48db48456bbb2094ed52fcacd6": {
          "model_module": "@jupyter-widgets/controls",
          "model_name": "ProgressStyleModel",
          "model_module_version": "1.5.0",
          "state": {
            "_model_module": "@jupyter-widgets/controls",
            "_model_module_version": "1.5.0",
            "_model_name": "ProgressStyleModel",
            "_view_count": null,
            "_view_module": "@jupyter-widgets/base",
            "_view_module_version": "1.2.0",
            "_view_name": "StyleView",
            "bar_color": null,
            "description_width": ""
          }
        }
      }
    }
  },
  "cells": [
    {
      "cell_type": "code",
      "source": [
        "!pip install wandb\n",
        "import wandb\n"
      ],
      "metadata": {
        "colab": {
          "base_uri": "https://localhost:8080/"
        },
        "id": "PZb7HEObAGmZ",
        "outputId": "734d2fe5-9192-42ef-ef81-9048dbcdd50b"
      },
      "execution_count": null,
      "outputs": [
        {
          "output_type": "stream",
          "name": "stdout",
          "text": [
            "Collecting wandb\n",
            "  Downloading wandb-0.16.4-py3-none-any.whl (2.2 MB)\n",
            "\u001b[2K     \u001b[90m━━━━━━━━━━━━━━━━━━━━━━━━━━━━━━━━━━━━━━━━\u001b[0m \u001b[32m2.2/2.2 MB\u001b[0m \u001b[31m17.6 MB/s\u001b[0m eta \u001b[36m0:00:00\u001b[0m\n",
            "\u001b[?25hRequirement already satisfied: Click!=8.0.0,>=7.1 in /usr/local/lib/python3.10/dist-packages (from wandb) (8.1.7)\n",
            "Collecting GitPython!=3.1.29,>=1.0.0 (from wandb)\n",
            "  Downloading GitPython-3.1.42-py3-none-any.whl (195 kB)\n",
            "\u001b[2K     \u001b[90m━━━━━━━━━━━━━━━━━━━━━━━━━━━━━━━━━━━━━━━━\u001b[0m \u001b[32m195.4/195.4 kB\u001b[0m \u001b[31m17.1 MB/s\u001b[0m eta \u001b[36m0:00:00\u001b[0m\n",
            "\u001b[?25hRequirement already satisfied: requests<3,>=2.0.0 in /usr/local/lib/python3.10/dist-packages (from wandb) (2.31.0)\n",
            "Requirement already satisfied: psutil>=5.0.0 in /usr/local/lib/python3.10/dist-packages (from wandb) (5.9.5)\n",
            "Collecting sentry-sdk>=1.0.0 (from wandb)\n",
            "  Downloading sentry_sdk-1.42.0-py2.py3-none-any.whl (263 kB)\n",
            "\u001b[2K     \u001b[90m━━━━━━━━━━━━━━━━━━━━━━━━━━━━━━━━━━━━━━━━\u001b[0m \u001b[32m263.5/263.5 kB\u001b[0m \u001b[31m26.3 MB/s\u001b[0m eta \u001b[36m0:00:00\u001b[0m\n",
            "\u001b[?25hCollecting docker-pycreds>=0.4.0 (from wandb)\n",
            "  Downloading docker_pycreds-0.4.0-py2.py3-none-any.whl (9.0 kB)\n",
            "Requirement already satisfied: PyYAML in /usr/local/lib/python3.10/dist-packages (from wandb) (6.0.1)\n",
            "Collecting setproctitle (from wandb)\n",
            "  Downloading setproctitle-1.3.3-cp310-cp310-manylinux_2_5_x86_64.manylinux1_x86_64.manylinux_2_17_x86_64.manylinux2014_x86_64.whl (30 kB)\n",
            "Requirement already satisfied: setuptools in /usr/local/lib/python3.10/dist-packages (from wandb) (67.7.2)\n",
            "Requirement already satisfied: appdirs>=1.4.3 in /usr/local/lib/python3.10/dist-packages (from wandb) (1.4.4)\n",
            "Requirement already satisfied: protobuf!=4.21.0,<5,>=3.19.0 in /usr/local/lib/python3.10/dist-packages (from wandb) (3.20.3)\n",
            "Requirement already satisfied: six>=1.4.0 in /usr/local/lib/python3.10/dist-packages (from docker-pycreds>=0.4.0->wandb) (1.16.0)\n",
            "Collecting gitdb<5,>=4.0.1 (from GitPython!=3.1.29,>=1.0.0->wandb)\n",
            "  Downloading gitdb-4.0.11-py3-none-any.whl (62 kB)\n",
            "\u001b[2K     \u001b[90m━━━━━━━━━━━━━━━━━━━━━━━━━━━━━━━━━━━━━━━━\u001b[0m \u001b[32m62.7/62.7 kB\u001b[0m \u001b[31m7.4 MB/s\u001b[0m eta \u001b[36m0:00:00\u001b[0m\n",
            "\u001b[?25hRequirement already satisfied: charset-normalizer<4,>=2 in /usr/local/lib/python3.10/dist-packages (from requests<3,>=2.0.0->wandb) (3.3.2)\n",
            "Requirement already satisfied: idna<4,>=2.5 in /usr/local/lib/python3.10/dist-packages (from requests<3,>=2.0.0->wandb) (3.6)\n",
            "Requirement already satisfied: urllib3<3,>=1.21.1 in /usr/local/lib/python3.10/dist-packages (from requests<3,>=2.0.0->wandb) (2.0.7)\n",
            "Requirement already satisfied: certifi>=2017.4.17 in /usr/local/lib/python3.10/dist-packages (from requests<3,>=2.0.0->wandb) (2024.2.2)\n",
            "Collecting smmap<6,>=3.0.1 (from gitdb<5,>=4.0.1->GitPython!=3.1.29,>=1.0.0->wandb)\n",
            "  Downloading smmap-5.0.1-py3-none-any.whl (24 kB)\n",
            "Installing collected packages: smmap, setproctitle, sentry-sdk, docker-pycreds, gitdb, GitPython, wandb\n",
            "Successfully installed GitPython-3.1.42 docker-pycreds-0.4.0 gitdb-4.0.11 sentry-sdk-1.42.0 setproctitle-1.3.3 smmap-5.0.1 wandb-0.16.4\n"
          ]
        }
      ]
    },
    {
      "cell_type": "code",
      "execution_count": 1,
      "metadata": {
        "id": "CHx5qHfOaaTD"
      },
      "outputs": [],
      "source": [
        "import numpy as np\n",
        "from keras.datasets import fashion_mnist\n",
        "import matplotlib.pyplot as plt\n",
        "from sklearn.model_selection import train_test_split\n",
        "from sklearn.metrics import classification_report, accuracy_score, confusion_matrix\n",
        "import seaborn as sns\n",
        "\n",
        "\n",
        "import warnings\n",
        "warnings.filterwarnings(\"ignore\")"
      ]
    },
    {
      "cell_type": "code",
      "source": [
        "# Loading data\n",
        "\n",
        "[(x_train, y_train), (x_test, y_test)] = fashion_mnist.load_data()\n",
        "x_train, x_val, y_train, y_val = train_test_split(x_train, y_train, test_size=0.2, random_state=2)\n",
        "\n",
        "print(\"Size of Training data:\", x_train.shape)\n",
        "print(\"Size of Validation data:\", x_val.shape)\n",
        "print(\"Size of Training labels:\", y_train.shape)\n",
        "print(\"Size of Validation labels:\", y_val.shape)\n",
        "print(\"Size of Test data:\", x_test.shape)\n",
        "print(\"Size of Test labels:\", y_test.shape)\n",
        "\n",
        "# Performing Scaling transformations on the data\n",
        "X_scaled = x_train / 255\n",
        "X_val_scaled = x_val / 255\n",
        "X_test_scaled = x_test / 255\n",
        "\n",
        "X_scaled = X_scaled.reshape(X_scaled.shape[0], X_scaled.shape[1]*X_scaled.shape[2]).T\n",
        "X_val_scaled = X_val_scaled.reshape(X_val_scaled.shape[0], X_val_scaled.shape[1]*X_val_scaled.shape[2]).T\n",
        "X_test_scaled = X_test_scaled.reshape(X_test_scaled.shape[0], X_test_scaled.shape[1]*X_test_scaled.shape[2]).T"
      ],
      "metadata": {
        "colab": {
          "base_uri": "https://localhost:8080/"
        },
        "id": "0rIcTIewFVq1",
        "outputId": "97e88e03-6b8e-4d59-81d1-348df151c296"
      },
      "execution_count": 4,
      "outputs": [
        {
          "output_type": "stream",
          "name": "stdout",
          "text": [
            "Size of Training data: (48000, 28, 28)\n",
            "Size of Validation data: (12000, 28, 28)\n",
            "Size of Training labels: (48000,)\n",
            "Size of Validation labels: (12000,)\n",
            "Size of Test data: (10000, 28, 28)\n",
            "Size of Test labels: (10000,)\n"
          ]
        }
      ]
    },
    {
      "cell_type": "markdown",
      "source": [
        "# Activation functions with its derivatives"
      ],
      "metadata": {
        "id": "Un6_zDJXbTI8"
      }
    },
    {
      "cell_type": "code",
      "source": [
        "import numpy as np\n",
        "\n",
        "class Sigmoid():\n",
        "# Initialize the Sigmoid function with parameters c and b\n",
        "    def __init__(self, c=1, b=0):\n",
        "        self.c = c\n",
        "        self.b = b\n",
        "\n",
        "# Calculate the sigmoid function value for input x\n",
        "    def value(self, x):\n",
        "        fun_val = 1 + np.exp(-self.c * (x + self.b))\n",
        "        return 1 / fun_val\n",
        "\n",
        "    def diff(self, x, remove=False):\n",
        "        y = self.value(x)\n",
        "        if remove:\n",
        "  # Remove the last element from the array\n",
        "            y = y[:-1]\n",
        "  # Calculate the derivative of the sigmoid function with respect to x\n",
        "        fun_val = self.c * y * (1 - y)\n",
        "        return fun_val\n",
        "\n",
        "\n",
        "class Tanh():\n",
        "    def __init__(self):\n",
        "        pass\n",
        "\n",
        "    def value(self, x):\n",
        "       # tanh(z) = (e^z - e^(-z)) / (e^z + e^(-z))\n",
        "        return np.exp(x) - np.exp(-x)/np.exp(x) + np.exp(-x)\n",
        "\n",
        "    def der_tanh(self, x):\n",
        "        y = self.value(x)\n",
        "        fun_val = 1 - y**2 # 1 - tanh(z)^2\n",
        "        return fun_val\n",
        "\n",
        "class Relu():\n",
        "    def __init__(self):\n",
        "        pass\n",
        "\n",
        "    def value(self, x):\n",
        "      # ReLU function: f(x) = max(0, x)\n",
        "        fun_val = x\n",
        "        fun_val[fun_val<0] = 0\n",
        "        return fun_val\n",
        "\n",
        "    def diff(self, x):\n",
        "      # Derivative of the ReLU function: 1 for x > 0, 0 for x <= 0\n",
        "        fun_val = np.ones(x.shape)\n",
        "        fun_val[fun_val<=0] = 0\n",
        "        return fun_val\n",
        "\n",
        "class Softmax():\n",
        "    def __init__(self):\n",
        "        pass\n",
        "\n",
        "    def value(self, x):\n",
        "        fun_val = np.exp(x)/np.sum(np.exp(x), axis=0)\n",
        "        # print(\"X shape\", x.shape, \"Val shape\", val.shape)\n",
        "        return fun_val\n",
        "\n",
        "    def diff(self, x):\n",
        "        y = self.value(x)\n",
        "        matrix = np.tile(y, y.shape[0])\n",
        "        print(y.shape, matrix.shape)\n",
        "        fun_val = np.diag(y.reshape(-1,)) -(matrix * matrix.T)\n",
        "        return fun_val\n"
      ],
      "metadata": {
        "id": "VQdX67L6arUU"
      },
      "execution_count": null,
      "outputs": []
    },
    {
      "cell_type": "markdown",
      "source": [
        "# Loss functions with its derivatives"
      ],
      "metadata": {
        "id": "kWBv-JeMbb8l"
      }
    },
    {
      "cell_type": "code",
      "source": [
        "# Class for Cross Entropy Loss\n",
        "class cross_entropy():\n",
        "    def __init__(self):\n",
        "        pass\n",
        "\n",
        "    # Function to calculate cross entropy loss\n",
        "    def find_loss(self, y_pred, y_true):\n",
        "        self.y_pred = y_pred\n",
        "        self.y_true = y_true\n",
        "        loss_pq = -np.sum(np.sum(self.y_pred*np.log(self.y_true)))\n",
        "        return loss_pq\n",
        "\n",
        "    # Function to calculate the derivative of cross entropy\n",
        "    def diff(self):\n",
        "        grad = -self.y_pred/(self.y_true)\n",
        "        return grad\n",
        "\n",
        "# Class for Squared Error Loss\n",
        "class Squared_Error():\n",
        "    def __init__(self):\n",
        "        pass\n",
        "\n",
        "    # Function to calculate squared error loss\n",
        "    def find_loss(self, y_pred, y_true):\n",
        "        self.y_pred = y_pred\n",
        "        self.y_true = y_true\n",
        "        loss = np.sum((y_pred-y_true)**2)\n",
        "        return loss\n",
        "\n",
        "    # Function to calculate the derivative of squared error loss\n",
        "    def diff(self, y_true, y_pred):\n",
        "        grad = -2*(y_true - y_pred)\n",
        "        return grad\n"
      ],
      "metadata": {
        "id": "BBkdnYb5bR8s"
      },
      "execution_count": null,
      "outputs": []
    },
    {
      "cell_type": "markdown",
      "source": [
        "# One Hot Encoder and MiniMax Scalars"
      ],
      "metadata": {
        "id": "8xMt4453blrP"
      }
    },
    {
      "cell_type": "code",
      "source": [
        "class OneHotEncoder():\n",
        "    def __init__(self):\n",
        "        self.num_classes = None\n",
        "\n",
        "    def fit_transform(self, y, num_classes=None):\n",
        "        if num_classes is not None:\n",
        "            self.num_classes = num_classes\n",
        "        else:\n",
        "            # Find unique classes in the target variable\n",
        "            self.num_classes = len(np.unique(y))\n",
        "\n",
        "        # Initialize a zero matrix (num_classes, number of samples)\n",
        "        transformed = np.zeros((self.num_classes, len(y)))\n",
        "\n",
        "        # Set the corresponding element to 1 for each sample\n",
        "        for i, j in enumerate(y):\n",
        "            transformed[j, i] = 1  # Fixed i, j to j, i\n",
        "\n",
        "        return transformed\n",
        "\n",
        "    def inverse_transform(self, y):\n",
        "        # Inverse transform: find the class with the highest value in each column\n",
        "        y_class = np.argmax(y, axis=0)\n",
        "        return y_class\n",
        "\n",
        "# Example usage\n",
        "encoder = OneHotEncoder()\n",
        "\n",
        "y = np.array([0, 1, 2, 0, 1])\n",
        "# Fit and transform\n",
        "encoded = encoder.fit_transform(y)\n",
        "print(\"Encoded:\\n\", encoded)\n",
        "# Inverse transform\n",
        "decoded = encoder.inverse_transform(encoded)\n",
        "print(\"Decoded:\", decoded)"
      ],
      "metadata": {
        "colab": {
          "base_uri": "https://localhost:8080/"
        },
        "id": "VKNm2XsebfbV",
        "outputId": "8007fa5c-88a1-481d-95df-0a913d6b083a"
      },
      "execution_count": null,
      "outputs": [
        {
          "output_type": "stream",
          "name": "stdout",
          "text": [
            "Encoded:\n",
            " [[1. 0. 0. 1. 0.]\n",
            " [0. 1. 0. 0. 1.]\n",
            " [0. 0. 1. 0. 0.]]\n",
            "Decoded: [0 1 2 0 1]\n"
          ]
        }
      ]
    },
    {
      "cell_type": "markdown",
      "source": [
        "## Mini-MaxScaler"
      ],
      "metadata": {
        "id": "gkUDrNn7bugd"
      }
    },
    {
      "cell_type": "code",
      "source": [
        "# class MinMax_Scaler():\n",
        "#     def __init__(self):\n",
        "#         pass\n",
        "\n",
        "#     def fit(self, X):\n",
        "#         # Store the minimum and maximum values for each feature\n",
        "#         self.min = np.min(X, axis=0)\n",
        "#         self.max = np.max(X, axis=0)\n",
        "\n",
        "#     def transform(self, X):\n",
        "#         # Scale the data to the range [0, 1]\n",
        "#         transformed = (X - self.min) / (self.max - self.min)\n",
        "#         return transformed\n",
        "\n",
        "#     def fit_transform(self, X):\n",
        "#         self.fit(X)\n",
        "#         return self.transform(X)\n",
        "\n",
        "# scaler = MinMax_Scaler()\n",
        "# # Sample data\n",
        "# data = np.array([[1, 2, 3], [4, 5, 6], [7, 8, 9]])\n",
        "\n",
        "# # Fit and transform the data using the scaler\n",
        "# scaled_data = scaler.fit_transform(data)\n",
        "\n",
        "# # Display the original and scaled data\n",
        "# print(\"Original data:\\n\", data)\n",
        "# print(\"\\nScaled data:\\n\", scaled_data)"
      ],
      "metadata": {
        "colab": {
          "base_uri": "https://localhost:8080/"
        },
        "id": "bvd9kJ4EbpIo",
        "outputId": "ba8ff6b8-0433-4d16-ebbb-dd38bc0d2f60"
      },
      "execution_count": null,
      "outputs": [
        {
          "output_type": "stream",
          "name": "stdout",
          "text": [
            "Original data:\n",
            " [[1 2 3]\n",
            " [4 5 6]\n",
            " [7 8 9]]\n",
            "\n",
            "Scaled data:\n",
            " [[0.  0.  0. ]\n",
            " [0.5 0.5 0.5]\n",
            " [1.  1.  1. ]]\n"
          ]
        }
      ]
    },
    {
      "cell_type": "markdown",
      "source": [
        "## Input and Dense layers"
      ],
      "metadata": {
        "id": "vpQloz3Wb2b2"
      }
    },
    {
      "cell_type": "code",
      "source": [
        "\n",
        "# from activations import Sigmoid, Tanh, Relu, Softmax\n",
        "Dic_activations = {\"Sigmoid\":Sigmoid(), \"Tanh\":Tanh(), \"Relu\":Relu(), \"Softmax\":Softmax()}\n",
        "\n",
        "class Input_Layer():\n",
        "  def __init__(self, data):\n",
        "    self.name = \"Input\"\n",
        "    self.input = data\n",
        "    self.size = self.input.shape[0]\n",
        "\n",
        "    # Having the input as the activated output to be given to the next layer\n",
        "    self.a = self.input\n",
        "    self.type = \"Input layer\"\n",
        "\n",
        "  def __repr__(self):\n",
        "    # Return a string representation of the Input layer\n",
        "    representation = f\"{self.type} - of Size: {self.size}\"\n",
        "    return representation\n",
        "\n",
        "class Dense_Layer:\n",
        "    def __init__(self, size, activation, name, last=False):\n",
        "        # Initialize Dense layer with specified size, activation function, and name\n",
        "        self.name = name\n",
        "        self.size = size\n",
        "        # Map activation function string to actual function\n",
        "        self.activation = Dic_activations.get(activation)\n",
        "        if self.activation is None:\n",
        "            raise ValueError(f\"Activation function '{activation}' not supported.\")\n",
        "        self.activation_name = activation\n",
        "        self.type = \"Dense layer\"\n",
        "\n",
        "    def __repr__(self):\n",
        "        # Return a string representation of the Dense layer\n",
        "        representation = f\"{self.type} - of Size: {self.size}; Activation: {self.activation_name}\"\n",
        "        return representation\n",
        "\n",
        "# Example\n",
        "input_layer = Input_Layer(np.array([1, 2, 3]))\n",
        "dense_layer = Dense_Layer(size=5, activation='Relu', name='hidden_layer')\n",
        "print(input_layer)\n",
        "print(dense_layer)"
      ],
      "metadata": {
        "colab": {
          "base_uri": "https://localhost:8080/"
        },
        "id": "P1NuEjPnbxgD",
        "outputId": "07ad9b22-ced4-4ff4-ecdd-99c61149a768"
      },
      "execution_count": null,
      "outputs": [
        {
          "output_type": "stream",
          "name": "stdout",
          "text": [
            "Input layer - of Size: 3\n",
            "Dense layer - of Size: 5; Activation: Relu\n"
          ]
        }
      ]
    },
    {
      "cell_type": "markdown",
      "source": [
        "## Stochastic gradient descent(SGD)"
      ],
      "metadata": {
        "id": "rCeZmRL-cHPp"
      }
    },
    {
      "cell_type": "code",
      "source": [
        "\n",
        "# learning rate = alpha\n",
        "class do_stochastic_gradient_descent():\n",
        "    def __init__(self, alpha=0.01):\n",
        "# Initialize the SGD object with a learning rate.\n",
        "        self.update = 0\n",
        "        self.alpha = alpha\n",
        "\n",
        "    def set_params(self, params):\n",
        "       # Set the parameters of the SGD object, such as the learning rate.\n",
        "        for key in params:\n",
        "            setattr(self, key, params[key])\n",
        "\n",
        "    def get_update(self, gradient):\n",
        "       # Calculate the update for the parameters based on the gradient and learning rate.\n",
        "        self.update = self.alpha * gradient\n",
        "        return self.update\n",
        "\n",
        "# sgd = do_stochastic_gradient_descent(alpha=0.01)\n",
        "# params = {'param1': 2.0, 'param2': -1.0}\n",
        "# sgd.set_params(params)\n",
        "# gradient = 1.5\n",
        "# update = sgd.get_update(gradient)\n",
        "# print(update)"
      ],
      "metadata": {
        "id": "dbe5unQLb8FT"
      },
      "execution_count": null,
      "outputs": []
    },
    {
      "cell_type": "markdown",
      "source": [
        "## Momentum Stochastic Gradient Descent"
      ],
      "metadata": {
        "id": "rVxRaoR_cRn2"
      }
    },
    {
      "cell_type": "code",
      "source": [
        "\n",
        "class do_momentum_stochastic_gradient_descent():\n",
        "    def __init__(self, alpha=0.01, gamma=0.9):\n",
        "       # Initialize the MomentumSGD with a learning rate (alpha) and momentum term (gamma).\n",
        "        self.update = 0\n",
        "        self.alpha = alpha\n",
        "        self.gamma = gamma\n",
        "\n",
        "    def set_params(self, params):\n",
        "       # Set the parameters, such as learning rate and momentum(gamma).\n",
        "        for key in params:\n",
        "            setattr(self, key, params[key])\n",
        "\n",
        "    def get_update(self, gradient):\n",
        "        self.update = self.gamma * self.update + self.alpha * gradient\n",
        "        return self.update\n"
      ],
      "metadata": {
        "id": "i1CBSItLcMKC"
      },
      "execution_count": null,
      "outputs": []
    },
    {
      "cell_type": "markdown",
      "source": [
        "## Nesterov Accelerated Gradient (NAG)"
      ],
      "metadata": {
        "id": "JDPslrGqcYh7"
      }
    },
    {
      "cell_type": "code",
      "source": [
        "class do_nag():\n",
        "    def __init__(self, alpha=0.001, gamma=0.9):\n",
        "        self.update = 0\n",
        "        self.alpha = alpha\n",
        "        self.gamma = gamma\n",
        "\n",
        "    def set_params(self, **kwargs):\n",
        "        # Set the parameters of the NAG object, learning rate, and momentum term.\n",
        "        for key, value in kwargs.items():\n",
        "            setattr(self, key, value)\n",
        "\n",
        "    def get_update(self, W, gradient):\n",
        "        # Calculate the NAG update for the parameters based on the current parameters (W), gradient, and momentum term.\n",
        "        W_lookahead = W - self.gamma * self.update\n",
        "\n",
        "        grad_lookahead = gradient(W_lookahead)\n",
        "\n",
        "        # Update the momentum term\n",
        "        self.update = self.gamma * self.update + self.alpha * grad_lookahead\n",
        "\n",
        "        # Update the parameters\n",
        "        W = W - self.update\n",
        "\n",
        "        return W\n"
      ],
      "metadata": {
        "id": "lUrZO6xRcUR9"
      },
      "execution_count": null,
      "outputs": []
    },
    {
      "cell_type": "markdown",
      "source": [
        "## Root Mean Square Propagation(RMSProp)"
      ],
      "metadata": {
        "id": "JyUYVVeBchmN"
      }
    },
    {
      "cell_type": "code",
      "source": [
        "\n",
        "class do_rmsprop():\n",
        "    def __init__(self, gamma=0.9, alpha = 0.001, epsilon = 1e-8):\n",
        "       # Initialize the RMSProp with a learning rate (alpha), decay rate (gamma), and epsilon.\n",
        "        self.v = 0\n",
        "        self.gamma = gamma\n",
        "        self.alpha = alpha\n",
        "        self.epsilon = epsilon\n",
        "\n",
        "    def set_params(self, params):\n",
        "       # Set the parameters of the RMSProp\n",
        "        for key in params:\n",
        "            setattr(self, key, params[key])\n",
        "\n",
        "    def get_update(self, grad):\n",
        "\n",
        "        self.v = self.gamma * self.v + (1 - self.gamma) * (grad ** 2)\n",
        "        update = (self.alpha / (self.v + self.epsilon) ** 0.5) * grad\n",
        "\n",
        "        return update"
      ],
      "metadata": {
        "id": "kBdQQ-KDcdVq"
      },
      "execution_count": null,
      "outputs": []
    },
    {
      "cell_type": "markdown",
      "source": [
        "## Adam"
      ],
      "metadata": {
        "id": "kmCAK8h8ck4F"
      }
    },
    {
      "cell_type": "code",
      "source": [
        "class do_adam():\n",
        "    def __init__(self, beta1=0.9, beta2=0.99, alpha=0.001, epsilon=1e-8):\n",
        "        # Initialize the Adam object with a learning rate (alpha), beta1, beta2, and epsilon.\n",
        "        self.m = 0\n",
        "        self.v = 0\n",
        "        self.beta1 = beta1\n",
        "        self.beta2 = beta2\n",
        "        self.alpha = alpha\n",
        "        self.epsilon = epsilon\n",
        "        self.iter = 1\n",
        "\n",
        "    def set_params(self, params):\n",
        "        # Set the parameters of the Adam\n",
        "        for key in params:\n",
        "            setattr(self, key, params[key])\n",
        "\n",
        "    def get_update(self, grad):\n",
        "        # Update the decaying average of the gradient and squared gradient\n",
        "        self.m = self.beta1 * self.m + (1 - self.beta1) * grad\n",
        "        self.v = self.beta2 * self.v + (1 - self.beta2) * (grad ** 2)\n",
        "\n",
        "        # Correct the bias of the decaying averages\n",
        "        m_corrected = self.m / (1 - self.beta1 ** self.iter)\n",
        "        v_corrected = self.v / (1 - self.beta2 ** self.iter)\n",
        "\n",
        "        # Apply the update to the parameters directly\n",
        "        update = self.alpha * m_corrected / (v_corrected + self.epsilon) ** 0.5\n",
        "        self.iter += 1\n",
        "\n",
        "        return update"
      ],
      "metadata": {
        "id": "bA100HzVckS9"
      },
      "execution_count": null,
      "outputs": []
    },
    {
      "cell_type": "markdown",
      "source": [
        "## NAdam"
      ],
      "metadata": {
        "id": "phy0W50mcqYj"
      }
    },
    {
      "cell_type": "code",
      "source": [
        "class do_nadam():\n",
        "    def __init__(self, beta1=0.9, beta2=0.99, alpha=0.001, epsilon=1e-8):\n",
        "        self.m = 0\n",
        "        self.v = 0\n",
        "        self.beta1 = beta1\n",
        "        self.beta2 = beta2\n",
        "        self.alpha = alpha\n",
        "        self.epsilon = epsilon\n",
        "        self.iter = 1\n",
        "\n",
        "    def set_params(self, params):\n",
        "        for key in params:\n",
        "            setattr(self, key, params[key])\n",
        "\n",
        "    def get_update(self, grad):\n",
        "        # Update the decaying average of the gradient and square gradient\n",
        "        self.m = self.beta1 * self.m + (1 - self.beta1) * grad\n",
        "        self.v = self.beta2 * self.v + (1 - self.beta2) * (grad ** 2)\n",
        "\n",
        "        # Correct the bias of the decaying averages\n",
        "        m_corrected = self.m / (1 - self.beta1 ** self.iter)\n",
        "        v_corrected = self.v / (1 - self.beta2 ** self.iter)\n",
        "\n",
        "        # Calculate the NAG term using the updated m_corrected value\n",
        "        nag_term = self.beta1 * m_corrected + ((1 - self.beta1) / (1 - self.beta1 ** self.iter)) * grad\n",
        "\n",
        "        update = self.alpha * nag_term / (v_corrected + self.epsilon) ** 0.5\n",
        "        self.iter += 1\n",
        "\n",
        "        return update\n"
      ],
      "metadata": {
        "id": "67e7lbtocpMz"
      },
      "execution_count": null,
      "outputs": []
    },
    {
      "cell_type": "code",
      "source": [
        "import math\n",
        "from copy import deepcopy\n",
        "\n",
        "from tqdm import tqdm\n",
        "\n",
        "\n",
        "Dic_optimizers = {\"SGD\":do_stochastic_gradient_descent(), \"Momentum_SGD\":do_momentum_stochastic_gradient_descent(), \"Nesterov\":do_nag(), \"RMS_Prop\":do_rmsprop(), \"Adam\":do_adam(), \"Nadam\":do_nadam()}\n",
        "\n",
        "Dic_losses = {\"Squared_Error\":Squared_Error(), \"Cross_Entropy\":cross_entropy()}"
      ],
      "metadata": {
        "id": "fyiUW-f7cx_W"
      },
      "execution_count": null,
      "outputs": []
    },
    {
      "cell_type": "markdown",
      "source": [
        "## FeedForward Neural Network"
      ],
      "metadata": {
        "id": "gSlHbaVrdaVF"
      }
    },
    {
      "cell_type": "code",
      "source": [
        "class NeuralNetwork():\n",
        "    def __init__(self, layers, batch_size, optimizer, initialization, epochs, t, loss, X_val=None, t_val=None, wandblogging=False, optim_params=None, learningrate = 0.01):\n",
        "\n",
        "        self.layers = layers\n",
        "        self.batch_size = batch_size\n",
        "        self.optimizer = optimizer\n",
        "        self.initialization = initialization\n",
        "        self.epochs = epochs\n",
        "        self.t = t\n",
        "        self.batch_no = math.ceil(self.t.shape[1]/batch_size)\n",
        "        self.loss_type = loss\n",
        "        self.loss = Dic_losses[loss]\n",
        "        self.wandblogging = wandblogging\n",
        "        self.learningrate = learningrate\n",
        "\n",
        "        if t_val is not None:\n",
        "            self.X_val = X_val\n",
        "            self.layers[0].a_val = X_val\n",
        "            self.t_val = t_val\n",
        "\n",
        "\n",
        "        #initalize optimizer\n",
        "        self.param_init(optimizer, optim_params)\n",
        "\n",
        "    def param_init(self, optimizer, params):\n",
        "        prev_size = self.layers[0].size\n",
        "        for layer in self.layers[1:]:\n",
        "            # layer.Weights_size = (layer.size, size_prev+1)\n",
        "            layer.Weights_size = (layer.size, prev_size)\n",
        "            prev_size = layer.size\n",
        "\n",
        "\n",
        "\n",
        "            # making use of optimizer data\n",
        "            layer.Weights_optimizer = deepcopy(Dic_optimizers[optimizer])\n",
        "            layer.Biases_optimizer = deepcopy(Dic_optimizers[optimizer])\n",
        "            # Code to set params\n",
        "\n",
        "\n",
        "            if params:\n",
        "                layer.Weights_optimizer.set_params(params)\n",
        "                layer.Biases_optimizer.set_params(params)\n",
        "\n",
        "        if self.initialization == \"random\":\n",
        "            for layer in self.layers[1:]:\n",
        "                layer.Weights = np.random.normal(loc=0, scale=1.0, size = layer.Weights_size)\n",
        "                layer.Biases = np.zeros((layer.Weights_size[0], 1))\n",
        "\n",
        "        elif self.initialization == \"xavier\":\n",
        "            for layer in self.layers[1:]:\n",
        "\n",
        "                scale = 1/max(1., (2+2)/2.)\n",
        "                limit = math.sqrt(3.0 * scale)\n",
        "                layer.Weights = np.random.uniform(-limit, limit, size=layer.Weights_size)\n",
        "                layer.Biases = np.zeros((layer.Weights_size[0], 1))\n",
        "\n",
        "\n",
        "    def forward_propogation(self):\n",
        "        for i in range(1, len(self.layers)):\n",
        "            # print(\"Layer:\", i, self.layers[i].W.shape)\n",
        "            # Pre-activation\n",
        "            self.layers[i].h = self.layers[i].Weights @ self.layers[i-1].a - self.layers[i].Biases\n",
        "            # Activation\n",
        "            self.layers[i].a = self.layers[i].activation.value(self.layers[i].h)\n",
        "            # Validation\n",
        "            self.layers[i].h_val = self.layers[i].Weights @ self.layers[i-1].a_val - self.layers[i].Biases\n",
        "            self.layers[i].a_val = self.layers[i].activation.value(self.layers[i].h_val)\n",
        "\n",
        "        if self.loss_type == \"Cross_Entropy\":\n",
        "            # Final sofmax activation\n",
        "            self.layers[-1].y = Softmax().value(self.layers[-1].a)\n",
        "            self.layers[-1].y_val = Softmax().value(self.layers[-1].a_val)\n",
        "        else:\n",
        "            self.layers[-1].y = self.layers[-1].a\n",
        "            self.layers[-1].y_val = self.layers[-1].a_val\n",
        "\n",
        "    def check_test(self, X_test, t_test):\n",
        "        self.layers[0].a_test = X_test\n",
        "        for i in range(1, len(self.layers)):\n",
        "            self.layers[i].h_test = self.layers[i].Weights @ self.layers[i-1].a_test - self.layers[i].Biases\n",
        "            self.layers[i].a_test = self.layers[i].activation.value(self.layers[i].h_test)\n",
        "\n",
        "        if self.loss==\"Cross_Entropy\":\n",
        "            self.layers[-1].y_test = Softmax().value(self.layers[-1].a_test)\n",
        "        else:\n",
        "            self.layers[-1].y_test = self.layers[-1].a_test\n",
        "\n",
        "        loss_test = self.loss.find_loss(t_test, self.layers[-1].y_test)\n",
        "\n",
        "        encoder = OneHotEncoder()\n",
        "        y_tmp = encoder.inverse_transform(self.layers[-1].y_test)\n",
        "        t_tmp = encoder.inverse_transform(t_test)\n",
        "        print(\"Shape of y_tmp:\", y_tmp.shape)\n",
        "        print(\"Shape of t_tmp:\", t_tmp.shape)\n",
        "        acc_test = np.sum(y_tmp == t_tmp)\n",
        "        return acc_test, loss_test, y_tmp\n",
        "\n",
        "###############################################################################################################\n",
        "\n",
        "\n",
        "    def get_accuracy(self, validation=False, print_vals=False):\n",
        "        encoder = OneHotEncoder()\n",
        "        t_train = encoder.inverse_transform(self.t)\n",
        "        y_train = encoder.inverse_transform(self.layers[-1].y)\n",
        "        acc_train = np.sum(t_train==y_train)\n",
        "        if print_vals:\n",
        "            print(\"Train Accuracy:\", acc_train)\n",
        "\n",
        "        if validation:\n",
        "            t_val = encoder.inverse_transform(self.t_val)\n",
        "            y_val = encoder.inverse_transform(self.layers[-1].y_val)\n",
        "            acc_val = np.sum(t_val==y_val)\n",
        "            if print_vals:\n",
        "                print(\"Validation Accuracy:\", acc_val)\n",
        "            return acc_train, acc_val\n",
        "        return acc_train\n",
        "\n",
        "    def backward_propogation(self):\n",
        "        # Initialize variables neesed to keep track of loss\n",
        "        self.eta_hist = []\n",
        "        self.loss_hist = []\n",
        "        self.accuracy_hist = []\n",
        "        self.loss_hist_val = []\n",
        "        self.accuracy_hist_val = []\n",
        "        self.loss = Squared_Error()\n",
        "        flag = 0\n",
        "\n",
        "        # Perform Backprop\n",
        "        # for _ in range(self.epochs):\n",
        "        for ep in tqdm(range(self.epochs)):\n",
        "            self.eta_hist.append(self.layers[-1].Weights_optimizer.alpha)\n",
        "            self.loss_hist.append(self.loss.find_loss(self.t, self.layers[-1].y))\n",
        "            train_acc, val_acc = self.get_accuracy(validation=True)\n",
        "            self.accuracy_hist.append(train_acc)\n",
        "            self.loss_hist_val.append(self.loss.find_loss(self.t_val, self.layers[-1].y_val))\n",
        "            self.accuracy_hist_val.append(val_acc)\n",
        "\n",
        "            if self.wandblogging:\n",
        "                wandb.log({\n",
        "                            \"step\": ep, \\\n",
        "                            \"loss:\": self.loss_hist[-1]/self.t.shape[1], \\\n",
        "                            \"accuracy\": self.accuracy_hist[-1]/self.t.shape[1], \\\n",
        "                            \"val_loss\": self.loss_hist_val[-1]/self.t_val.shape[1], \\\n",
        "                            \"val_accuracy\": self.accuracy_hist_val[-1]/self.t_val.shape[1]\n",
        "                        })\n",
        "\n",
        "            for batch in range(self.batch_no):\n",
        "                # print(\"Batch:\", batch)\n",
        "                # X_batch = self.layers[0].input[batch*self.batch_size:(batch+1)*self.batch_size]\n",
        "                t_batch = self.t[:, batch*self.batch_size:(batch+1)*self.batch_size]\n",
        "                y_batch = self.layers[-1].y[:, batch*self.batch_size:(batch+1)*self.batch_size]\n",
        "                self.y_batch = y_batch\n",
        "                self.t_batch = t_batch\n",
        "\n",
        "                # Calculate Loss, grad wrt y and softmax for last layer\n",
        "                # print(\"t:\\n\", self.t)\n",
        "                # print(\"y:\\n\", self.layers[-1].y)\n",
        "                # print(self.loss_hist[-1])\n",
        "\n",
        "                try:\n",
        "                    if self.loss_hist[-1] > self.loss_hist[-2]:\n",
        "                        for layer in self.layers[1:]:\n",
        "                            layer.Weights_optimizer.set_params({\"eta\":self.optimizer.eta/2})\n",
        "                            layer.b_optimizer.set_params({\"eta\":self.optimizer.eta/2})\n",
        "                        flag = 1\n",
        "                except:\n",
        "                    pass\n",
        "\n",
        "                if flag == 1:\n",
        "                    break\n",
        "\n",
        "                # self.layers[-1].cross_grad = self.loss.diff()\n",
        "                self.layers[-1].a_grad = self.loss.diff(self.t_batch, self.y_batch)\n",
        "                self.layers[-1].h_grad = self.layers[-1].a_grad * self.layers[-1].activation.diff(self.layers[-1].h[:, batch*self.batch_size:(batch+1)*self.batch_size])\n",
        "\n",
        "                self.layers[-1].Weights_grad = self.layers[-1].h_grad @ self.layers[-2].a[:, batch*self.batch_size:(batch+1)*self.batch_size].T\n",
        "                self.layers[-1].Weights_update = self.layers[-1].Weights_optimizer.get_update(self.layers[-1].Weights_grad)\n",
        "\n",
        "                self.layers[-1].Biases_grad = -np.sum(self.layers[-1].h_grad, axis=1).reshape(-1,1)\n",
        "                self.layers[-1].Biases_update = self.layers[-1].Biases_optimizer.get_update(self.layers[-1].Biases_grad)\n",
        "\n",
        "                # print(\"Last Layer\")\n",
        "                # print(\"a_grad shape:\", self.layers[-1].a_grad.shape)\n",
        "                # print(\"h_grad shape:\", self.layers[-1].h_grad.shape)\n",
        "                # print(\"W_grad shape:\", self.layers[-1].Weights_grad.shape)\n",
        "                # print(\"W_update shape:\", self.layers[-1].Weights_update.shape)\n",
        "                # print(\"W_shape:\", self.layers[-1].Weights.shape)\n",
        "                # print(\"a_grad:\\n\", self.layers[-1].a_grad)\n",
        "                # print(\"h_grad:\\n\", self.layers[-1].h_grad)\n",
        "                # print(\"W_grad:\\n\", self.layers[-1].Weights_grad)\n",
        "\n",
        "                assert self.layers[-1].Weights_update.shape == self.layers[-1].Weights.shape, \"Sizes don't match\"\n",
        "\n",
        "\n",
        "                # Backpropogation for the remaining layers\n",
        "                for i in range(len(self.layers[:-2]), 0, -1):\n",
        "                    self.layers[i].a_grad = self.layers[i+1].Weights.T @ self.layers[i+1].h_grad\n",
        "                    self.layers[i].h_grad = self.layers[i].a_grad * self.layers[i].activation.diff(self.layers[i].h[:, batch*self.batch_size:(batch+1)*self.batch_size])\n",
        "\n",
        "                    self.layers[i].Biases_grad = -np.sum(self.layers[i].h_grad, axis=1).reshape(-1,1)\n",
        "                    self.layers[i].Weights_grad = self.layers[i].h_grad @ self.layers[i-1].a[:, batch*self.batch_size:(batch+1)*self.batch_size].T\n",
        "\n",
        "                    self.layers[i].Weights_update = self.layers[i].Weights_optimizer.get_update(self.layers[i].Weights_grad)\n",
        "                    self.layers[i].Biases_update = self.layers[i].Biases_optimizer.get_update(self.layers[i].Biases_grad)\n",
        "\n",
        "                # Update the weights\n",
        "                for _, layer in enumerate(self.layers[1:]):\n",
        "                    layer.Weights = layer.Weights - layer.Weights_update\n",
        "                    layer.Biases = layer.Biases - layer.Biases_update\n",
        "\n",
        "\n",
        "                self.forward_propogation()\n",
        "\n",
        "            if flag == 1:\n",
        "                break"
      ],
      "metadata": {
        "id": "SZIR3XXXdW7V"
      },
      "execution_count": null,
      "outputs": []
    },
    {
      "cell_type": "code",
      "source": [
        "def Print_data(self):\n",
        "        print(\"Model with the following layers:\")\n",
        "        for i in self.layers:\n",
        "            print(i)\n",
        "        print(\"Loss:\", self.loss)\n",
        "        print(\"Epochs:\", self.epochs)\n",
        "        print(\"Batch Size:\", self.batch_size)\n",
        "        print(\"Optimizer:\", self.optimizer)\n",
        "        print(\"Initialization:\", self.initialization)"
      ],
      "metadata": {
        "id": "nqaQUMY9DjJI"
      },
      "execution_count": null,
      "outputs": []
    },
    {
      "cell_type": "code",
      "source": [
        "def get_accuracy(self, validation=False, print_vals=False):\n",
        "        encoder = OneHotEncoder()\n",
        "        t_train = encoder.inverse_transform(self.t)\n",
        "        y_train = encoder.inverse_transform(self.layers[-1].y)\n",
        "        acc_train = np.sum(t_train==y_train)\n",
        "        if print_vals:\n",
        "            print(\"Train Accuracy:\", acc_train)\n",
        "\n",
        "        if validation:\n",
        "            t_val = encoder.inverse_transform(self.t_val)\n",
        "            y_val = encoder.inverse_transform(self.layers[-1].y_val)\n",
        "            acc_val = np.sum(t_val==y_val)\n",
        "            if print_vals:\n",
        "                print(\"Validation Accuracy:\", acc_val)\n",
        "            return acc_train, acc_val\n",
        "        return acc_train"
      ],
      "metadata": {
        "id": "9UUQADmaeqLz"
      },
      "execution_count": null,
      "outputs": []
    },
    {
      "cell_type": "code",
      "source": [
        "import matplotlib.pyplot as plt\n",
        "from keras.datasets import fashion_mnist\n",
        "from sklearn.model_selection import train_test_split\n",
        "from sklearn.metrics import classification_report, accuracy_score, confusion_matrix\n",
        "import seaborn as sns\n",
        "\n",
        "\n",
        "import warnings\n",
        "warnings.filterwarnings(\"ignore\")\n",
        "print(\"Done!\")"
      ],
      "metadata": {
        "colab": {
          "base_uri": "https://localhost:8080/"
        },
        "id": "q0PIYmKMCGnM",
        "outputId": "ef0c974e-4c07-471f-a23a-ef2133d6f903"
      },
      "execution_count": null,
      "outputs": [
        {
          "output_type": "stream",
          "name": "stdout",
          "text": [
            "Done!\n"
          ]
        }
      ]
    },
    {
      "cell_type": "code",
      "source": [
        "\n",
        "Dic_optimizers = {\"SGD\":do_stochastic_gradient_descent(), \"Momentum_SGD\":do_momentum_stochastic_gradient_descent(), \"Nesterov\":do_nag(), \"RMS_Prop\":do_rmsprop(), \"Adam\":do_adam(), \"Nadam\":do_nadam()}\n",
        "\n",
        "#################################################################\n",
        "# Performing Scaling and Encoding transformations on the data\n",
        "\n",
        "encoder = OneHotEncoder()\n",
        "t = encoder.fit_transform(y_train, 10)\n",
        "t_val = encoder.fit_transform(y_val, 10)\n",
        "t_test = encoder.fit_transform(y_test, 10)\n",
        "print(\"Done!\")\n",
        "\n",
        "X_scaled = X_scaled[:, :2000]\n",
        "X_val_scaled = X_val_scaled[:, :500]\n",
        "t = t[:,:2000]\n",
        "t_val = t_val[:, :500]\n",
        "\n",
        "#################################################################\n",
        "layers = [Input_Layer(data=X_scaled),\n",
        "          Dense_Layer(size=64, activation=\"Sigmoid\", name=\"HL1\"),\n",
        "          Dense_Layer(size=10, activation=\"Sigmoid\", name=\"OL\")]\n",
        "\n",
        "model = NeuralNetwork(layers=layers, batch_size=2000, optimizer=\"Nadam\", \\\n",
        "                      initialization=\"random\", loss=\"Squared_Error\", \\\n",
        "                      epochs=int(100), t=t, X_val=X_val_scaled, t_val=t_val, \\\n",
        "                      wandblogging=False)\n",
        "\n",
        "model.forward_propogation()\n",
        "first_pass_y = model.layers[-1].y\n",
        "model.backward_propogation()\n",
        "\n",
        "acc_val, loss_val, _ = model.check_test(X_val_scaled, t_val)\n",
        "acc_test, loss_test, _ = model.check_test(X_test_scaled, t_test)\n",
        "\n",
        "print(\"-\"*60)\n",
        "print(\"Training Data\")\n",
        "print(\"Fraction Correctly classified in untrained network:\", np.sum(np.argmax(first_pass_y, axis=0) == y_train[:2000])/2000)\n",
        "print(\"Fraction Correctly classified in trained network:\", np.sum(np.argmax((model.layers[-1].y), axis=0) == y_train[:2000])/2000)\n",
        "\n",
        "print(\"-\"*60)\n",
        "print(\"Validation Data\")\n",
        "print(\"Fraction Correctly classified in trained network:\", acc_val/t_val.shape[1])\n",
        "\n",
        "print(\"-\"*60)\n",
        "print(\"Testing Data\")\n",
        "print(\"Fraction Correctly classified in trained network:\", acc_test/t_test.shape[1])\n",
        "\n",
        "#################################################################\n",
        "plt.figure()\n",
        "plt.plot(np.array(model.accuracy_hist_val)/500, label=\"training accuracy\")\n",
        "plt.plot(np.array(model.accuracy_hist)/2000, label=\"validation accuracy\")\n",
        "plt.title(\"Accuracy of the model\")\n",
        "plt.legend()\n",
        "plt.grid()\n",
        "plt.show()\n",
        "\n",
        "plt.figure()\n",
        "plt.plot(np.array(model.loss_hist)/2000, label=\"training loss\")\n",
        "plt.plot(np.array(model.loss_hist_val)/500, label=\"validation loss\")\n",
        "plt.title(\"Loss of the model\")\n",
        "plt.legend()\n",
        "plt.grid()\n",
        "plt.show()\n"
      ],
      "metadata": {
        "colab": {
          "base_uri": "https://localhost:8080/",
          "height": 1000
        },
        "id": "I1CSfWkIe8vX",
        "outputId": "cbeceb15-adc5-4072-fc35-3f80bd71fa36"
      },
      "execution_count": null,
      "outputs": [
        {
          "output_type": "stream",
          "name": "stdout",
          "text": [
            "Done!\n"
          ]
        },
        {
          "output_type": "stream",
          "name": "stderr",
          "text": [
            "100%|██████████| 100/100 [00:04<00:00, 20.19it/s]\n"
          ]
        },
        {
          "output_type": "stream",
          "name": "stdout",
          "text": [
            "Shape of y_tmp: (500,)\n",
            "Shape of t_tmp: (500,)\n",
            "Shape of y_tmp: (10000,)\n",
            "Shape of t_tmp: (10000,)\n",
            "------------------------------------------------------------\n",
            "Training Data\n",
            "Fraction Correctly classified in untrained network: 0.105\n",
            "Fraction Correctly classified in trained network: 0.3345\n",
            "------------------------------------------------------------\n",
            "Validation Data\n",
            "Fraction Correctly classified in trained network: 0.318\n",
            "------------------------------------------------------------\n",
            "Testing Data\n",
            "Fraction Correctly classified in trained network: 0.3077\n"
          ]
        },
        {
          "output_type": "display_data",
          "data": {
            "text/plain": [
              "<Figure size 640x480 with 1 Axes>"
            ],
            "image/png": "[encoded data removed]"
          },
          "metadata": {}
        },
        {
          "output_type": "display_data",
          "data": {
            "text/plain": [
              "<Figure size 640x480 with 1 Axes>"
            ],
            "image/png": "[encoded data removed]"
          },
          "metadata": {}
        }
      ]
    },
    {
      "cell_type": "markdown",
      "source": [
        "## Q.4"
      ],
      "metadata": {
        "id": "BBzEC-iQLCLO"
      }
    },
    {
      "cell_type": "code",
      "source": [
        "\n",
        "# sweep_config = {\"name\": \"complete-sweep\", \"method\": \"grid\"}\n",
        "# sweep_config[\"metric\"] = {\"name\": \"loss\", \"goal\": \"minimize\"}\n",
        "\n",
        "parameters_dict = {\n",
        "    \"num_epochs\": {\"values\": [10, 50]},\n",
        "    \"num_hidden_layers\": {\"values\": [3, 4, 5]},\n",
        "    \"size_hidden_layer\": {\"values\": [32, 64, 128]},\n",
        "    # \"learning_rate\": {\"values\": [1e-3, 1e-4]},\n",
        "    \"optimizer\": {\"values\": [\"SGD\", \"MomentumSGD\", \"RMSProp\", \"Adam\", \"Nadam\"]},\n",
        "    \"batch_size\": {\"values\": [128, 1024, 60000]},\n",
        "    \"weight_init\": {\"values\": [\"random\", \"xavier\"]},\n",
        "    \"activation\": {\"values\": [\"Sigmoid\", \"Tanh\", \"Relu\"]},\n",
        "    \"loss\": {\"values\": [\"Cross_Entropy\", \"Squared_Error\"]},\n",
        "}\n",
        "\n",
        "# sweep_config[\"parameters\"] = parameters_dict\n",
        "\n",
        "# for i in sweep_config:\n",
        "#     print(i, sweep_config[i])\n",
        "\n",
        "\n",
        "# def train_Neural_Network(config = sweep_config):\n",
        "def train_Neural_Network(config):\n",
        "    print(config)\n",
        "    # with wandb.init(project=\"Assignment1\", entity=\"cs6910jananiteam\", config=config):\n",
        "    #     config = wandb.init().config\n",
        "    #     wandb.run.name = \"e_{}_hl_{}_opt_{}_bs_{}_init_{}_ac_{}_loss_{}\".format(config.num_epochs,\\\n",
        "    #                                                                       config.size_hidden_layer,\\\n",
        "    #                                                                       config.optimizer,\\\n",
        "    #                                                                       config.batch_size,\\\n",
        "    #                                                                       config.weight_init,\\\n",
        "    #                                                                       config.activation,\\\n",
        "    #                                                                       config.loss)\n",
        "\n",
        "    layers = [Input_Layer(data=X_scaled),\n",
        "              Dense_Layer(size=config[\"size_hidden_layer\"], activation=config[\"activation\"], name=\"HL1\"),\n",
        "              Dense_Layer(size=10, activation=config[\"activation\"], name=\"OL\")]\n",
        "\n",
        "    nn_model = NeuralNetwork(layers=layers, batch_size=config[\"batch_size\"],\n",
        "                             optimizer=config[\"optimizer\"], initialization=config[\"weight_init\"],\n",
        "                             epochs=config[\"num_epochs\"], t=t, X_val=X_val_scaled,\n",
        "                             t_val=t_val, loss=config[\"loss\"], wandblogging=True)#, \\\n",
        "                            #  optim_params={\"eta\":config.learning_rate})\n",
        "\n",
        "    nn_model.forward_propogation()\n",
        "    nn_model.backward_propogation()\n",
        "    acc_val, loss_val, _ = nn_model.check_test(X_val_scaled, t_val)\n",
        "    acc_test, loss_test, _ = nn_model.check_test(X_test_scaled, t_test)\n",
        "\n",
        "    # wandb.log({\"val_loss_end\": loss_val/t_val.shape[1], \\\n",
        "    #             \"val_acc_end\": acc_val/t_val.shape[1], \\\n",
        "    #             \"test_loss_end\": loss_test/t_test.shape[1], \\\n",
        "    #             \"test_acc_end\": acc_test/t_test.shape[1], \\\n",
        "    #             \"epoch\":config.num_epochs})\n",
        "\n",
        "# ####################################################################\n",
        "# sweep_id = wandb.sweep(sweep_config, project = \"Assignment1\")\n",
        "# wandb.agent(sweep_id, function = train_Neural_Network)\n",
        "# #################################################################### [markdown]"
      ],
      "metadata": {
        "id": "bfG8KwBjf2zm",
        "colab": {
          "base_uri": "https://localhost:8080/",
          "height": 1000,
          "referenced_widgets": [
            "86e220bbd4cb490281ff16285f1ba11a",
            "d664a444e0ca4210bd404e8a3f8164d3",
            "79a1a28222704e39912ffd5c737cebbf",
            "efa586b11ba948169d73ca4ced7bdbca",
            "dc2157038bc54e7da12f2c15a4a72bc3",
            "ed9e1af89dfa42b49639a9dd32b991f8",
            "b527ef653d5e456997fc2dfa3de7988a",
            "0f1b01aeed5043218bd99fb8ad769cdd",
            "0b8b276324784584874d7dd8e7830765",
            "438a3e0d66f44754a7b8ce61f5ef2473",
            "c973c398cc8e4f31865492678091ecad",
            "af8f84b6e1ac41839a934cf5e87bd7e1",
            "fd531e79562a451785367a8725e7550e",
            "136397d65fe94da88a416beaed2e4083",
            "0ffe1695e1f24f2aa395f5713cd90281",
            "fb834c48db48456bbb2094ed52fcacd6"
          ]
        },
        "outputId": "1d502ba4-3187-41e2-d699-292e5256a9b7"
      },
      "execution_count": null,
      "outputs": [
        {
          "output_type": "stream",
          "name": "stdout",
          "text": [
            "name complete-sweep\n",
            "method grid\n",
            "metric {'name': 'loss', 'goal': 'minimize'}\n",
            "parameters {'num_epochs': {'values': [10, 50]}, 'num_hidden_layers': {'values': [3, 4, 5]}, 'size_hidden_layer': {'values': [32, 64, 128]}, 'optimizer': {'values': ['SGD', 'MomentumSGD', 'RMSProp', 'Adam', 'Nadam']}, 'batch_size': {'values': [128, 1024, 60000]}, 'weight_init': {'values': ['random', 'xavier']}, 'activation': {'values': ['Sigmoid', 'Tanh', 'Relu']}, 'loss': {'values': ['Cross_Entropy', 'Squared_Error']}}\n"
          ]
        },
        {
          "output_type": "display_data",
          "data": {
            "text/plain": [
              "<IPython.core.display.Javascript object>"
            ],
            "application/javascript": [
              "\n",
              "        window._wandbApiKey = new Promise((resolve, reject) => {\n",
              "            function loadScript(url) {\n",
              "            return new Promise(function(resolve, reject) {\n",
              "                let newScript = document.createElement(\"script\");\n",
              "                newScript.onerror = reject;\n",
              "                newScript.onload = resolve;\n",
              "                document.body.appendChild(newScript);\n",
              "                newScript.src = url;\n",
              "            });\n",
              "            }\n",
              "            loadScript(\"https://cdn.jsdelivr.net/npm/postmate/build/postmate.min.js\").then(() => {\n",
              "            const iframe = document.createElement('iframe')\n",
              "            iframe.style.cssText = \"width:0;height:0;border:none\"\n",
              "            document.body.appendChild(iframe)\n",
              "            const handshake = new Postmate({\n",
              "                container: iframe,\n",
              "                url: 'https://wandb.ai/authorize'\n",
              "            });\n",
              "            const timeout = setTimeout(() => reject(\"Couldn't auto authenticate\"), 5000)\n",
              "            handshake.then(function(child) {\n",
              "                child.on('authorize', data => {\n",
              "                    clearTimeout(timeout)\n",
              "                    resolve(data)\n",
              "                });\n",
              "            });\n",
              "            })\n",
              "        });\n",
              "    "
            ]
          },
          "metadata": {}
        },
        {
          "output_type": "stream",
          "name": "stderr",
          "text": [
            "\u001b[34m\u001b[1mwandb\u001b[0m: Logging into wandb.ai. (Learn how to deploy a W&B server locally: https://wandb.me/wandb-server)\n",
            "\u001b[34m\u001b[1mwandb\u001b[0m: You can find your API key in your browser here: https://wandb.ai/authorize\n",
            "wandb: Paste an API key from your profile and hit enter, or press ctrl+c to quit:"
          ]
        },
        {
          "name": "stdout",
          "output_type": "stream",
          "text": [
            " ··········\n"
          ]
        },
        {
          "output_type": "stream",
          "name": "stderr",
          "text": [
            "\u001b[34m\u001b[1mwandb\u001b[0m: Appending key for api.wandb.ai to your netrc file: /root/.netrc\n"
          ]
        },
        {
          "output_type": "stream",
          "name": "stdout",
          "text": [
            "Create sweep with ID: pg38l7lr\n",
            "Sweep URL: https://wandb.ai/lokendrakumar/Assignment1/sweeps/pg38l7lr\n"
          ]
        },
        {
          "output_type": "stream",
          "name": "stderr",
          "text": [
            "\u001b[34m\u001b[1mwandb\u001b[0m: Agent Starting Run: r5804u58 with config:\n",
            "\u001b[34m\u001b[1mwandb\u001b[0m: \tactivation: Sigmoid\n",
            "\u001b[34m\u001b[1mwandb\u001b[0m: \tbatch_size: 128\n",
            "\u001b[34m\u001b[1mwandb\u001b[0m: \tloss: Cross_Entropy\n",
            "\u001b[34m\u001b[1mwandb\u001b[0m: \tnum_epochs: 10\n",
            "\u001b[34m\u001b[1mwandb\u001b[0m: \tnum_hidden_layers: 3\n",
            "\u001b[34m\u001b[1mwandb\u001b[0m: \toptimizer: SGD\n",
            "\u001b[34m\u001b[1mwandb\u001b[0m: \tsize_hidden_layer: 32\n",
            "\u001b[34m\u001b[1mwandb\u001b[0m: \tweight_init: random\n"
          ]
        },
        {
          "output_type": "stream",
          "name": "stdout",
          "text": [
            "{'name': 'complete-sweep', 'method': 'grid', 'metric': {'name': 'loss', 'goal': 'minimize'}, 'parameters': {'num_epochs': {'values': [10, 50]}, 'num_hidden_layers': {'values': [3, 4, 5]}, 'size_hidden_layer': {'values': [32, 64, 128]}, 'optimizer': {'values': ['SGD', 'MomentumSGD', 'RMSProp', 'Adam', 'Nadam']}, 'batch_size': {'values': [128, 1024, 60000]}, 'weight_init': {'values': ['random', 'xavier']}, 'activation': {'values': ['Sigmoid', 'Tanh', 'Relu']}, 'loss': {'values': ['Cross_Entropy', 'Squared_Error']}}}\n"
          ]
        },
        {
          "output_type": "stream",
          "name": "stderr",
          "text": [
            "\u001b[34m\u001b[1mwandb\u001b[0m: Currently logged in as: \u001b[33mma23m008\u001b[0m. Use \u001b[1m`wandb login --relogin`\u001b[0m to force relogin\n",
            "\u001b[34m\u001b[1mwandb\u001b[0m: \u001b[33mWARNING\u001b[0m Ignored wandb.init() arg project when running a sweep.\n",
            "\u001b[34m\u001b[1mwandb\u001b[0m: \u001b[33mWARNING\u001b[0m Ignored wandb.init() arg entity when running a sweep.\n"
          ]
        },
        {
          "output_type": "display_data",
          "data": {
            "text/plain": [
              "VBox(children=(Label(value='Waiting for wandb.init()...\\r'), FloatProgress(value=0.011112749777779148, max=1.0…"
            ],
            "application/vnd.jupyter.widget-view+json": {
              "version_major": 2,
              "version_minor": 0,
              "model_id": "86e220bbd4cb490281ff16285f1ba11a"
            }
          },
          "metadata": {}
        },
        {
          "output_type": "display_data",
          "data": {
            "text/plain": [
              "<IPython.core.display.HTML object>"
            ],
            "text/html": [
              "Tracking run with wandb version 0.16.4"
            ]
          },
          "metadata": {}
        },
        {
          "output_type": "display_data",
          "data": {
            "text/plain": [
              "<IPython.core.display.HTML object>"
            ],
            "text/html": [
              "Run data is saved locally in <code>/content/wandb/run-20240314_082032-r5804u58</code>"
            ]
          },
          "metadata": {}
        },
        {
          "output_type": "display_data",
          "data": {
            "text/plain": [
              "<IPython.core.display.HTML object>"
            ],
            "text/html": [
              "Syncing run <strong><a href='https://wandb.ai/lokendrakumar/Assignment1/runs/r5804u58' target=\"_blank\">grateful-sweep-1</a></strong> to <a href='https://wandb.ai/lokendrakumar/Assignment1' target=\"_blank\">Weights & Biases</a> (<a href='https://wandb.me/run' target=\"_blank\">docs</a>)<br/>Sweep page: <a href='https://wandb.ai/lokendrakumar/Assignment1/sweeps/pg38l7lr' target=\"_blank\">https://wandb.ai/lokendrakumar/Assignment1/sweeps/pg38l7lr</a>"
            ]
          },
          "metadata": {}
        },
        {
          "output_type": "display_data",
          "data": {
            "text/plain": [
              "<IPython.core.display.HTML object>"
            ],
            "text/html": [
              " View project at <a href='https://wandb.ai/lokendrakumar/Assignment1' target=\"_blank\">https://wandb.ai/lokendrakumar/Assignment1</a>"
            ]
          },
          "metadata": {}
        },
        {
          "output_type": "display_data",
          "data": {
            "text/plain": [
              "<IPython.core.display.HTML object>"
            ],
            "text/html": [
              " View sweep at <a href='https://wandb.ai/lokendrakumar/Assignment1/sweeps/pg38l7lr' target=\"_blank\">https://wandb.ai/lokendrakumar/Assignment1/sweeps/pg38l7lr</a>"
            ]
          },
          "metadata": {}
        },
        {
          "output_type": "display_data",
          "data": {
            "text/plain": [
              "<IPython.core.display.HTML object>"
            ],
            "text/html": [
              " View run at <a href='https://wandb.ai/lokendrakumar/Assignment1/runs/r5804u58' target=\"_blank\">https://wandb.ai/lokendrakumar/Assignment1/runs/r5804u58</a>"
            ]
          },
          "metadata": {}
        },
        {
          "output_type": "display_data",
          "data": {
            "text/plain": [
              "<IPython.core.display.HTML object>"
            ],
            "text/html": [
              "Finishing last run (ID:r5804u58) before initializing another..."
            ]
          },
          "metadata": {}
        },
        {
          "output_type": "display_data",
          "data": {
            "text/plain": [
              "VBox(children=(Label(value='0.011 MB of 0.011 MB uploaded\\r'), FloatProgress(value=1.0, max=1.0)))"
            ],
            "application/vnd.jupyter.widget-view+json": {
              "version_major": 2,
              "version_minor": 0,
              "model_id": "0b8b276324784584874d7dd8e7830765"
            }
          },
          "metadata": {}
        },
        {
          "output_type": "display_data",
          "data": {
            "text/plain": [
              "<IPython.core.display.HTML object>"
            ],
            "text/html": [
              " View run <strong style=\"color:#cdcd00\">grateful-sweep-1</strong> at: <a href='https://wandb.ai/lokendrakumar/Assignment1/runs/r5804u58' target=\"_blank\">https://wandb.ai/lokendrakumar/Assignment1/runs/r5804u58</a><br/>Synced 4 W&B file(s), 0 media file(s), 0 artifact file(s) and 0 other file(s)"
            ]
          },
          "metadata": {}
        },
        {
          "output_type": "display_data",
          "data": {
            "text/plain": [
              "<IPython.core.display.HTML object>"
            ],
            "text/html": [
              "Find logs at: <code>./wandb/run-20240314_082032-r5804u58/logs</code>"
            ]
          },
          "metadata": {}
        },
        {
          "output_type": "display_data",
          "data": {
            "text/plain": [
              "<IPython.core.display.HTML object>"
            ],
            "text/html": [
              "Successfully finished last run (ID:r5804u58). Initializing new run:<br/>"
            ]
          },
          "metadata": {}
        },
        {
          "output_type": "display_data",
          "data": {
            "text/plain": [
              "<IPython.core.display.HTML object>"
            ],
            "text/html": [
              "Tracking run with wandb version 0.16.4"
            ]
          },
          "metadata": {}
        },
        {
          "output_type": "display_data",
          "data": {
            "text/plain": [
              "<IPython.core.display.HTML object>"
            ],
            "text/html": [
              "Run data is saved locally in <code>/content/wandb/run-20240314_082038-r5804u58</code>"
            ]
          },
          "metadata": {}
        },
        {
          "output_type": "display_data",
          "data": {
            "text/plain": [
              "<IPython.core.display.HTML object>"
            ],
            "text/html": [
              "Syncing run <strong><a href='https://wandb.ai/lokendrakumar/Assignment1/runs/r5804u58' target=\"_blank\">grateful-sweep-1</a></strong> to <a href='https://wandb.ai/lokendrakumar/Assignment1' target=\"_blank\">Weights & Biases</a> (<a href='https://wandb.me/run' target=\"_blank\">docs</a>)<br/>Sweep page: <a href='https://wandb.ai/lokendrakumar/Assignment1/sweeps/pg38l7lr' target=\"_blank\">https://wandb.ai/lokendrakumar/Assignment1/sweeps/pg38l7lr</a>"
            ]
          },
          "metadata": {}
        },
        {
          "output_type": "display_data",
          "data": {
            "text/plain": [
              "<IPython.core.display.HTML object>"
            ],
            "text/html": [
              " View project at <a href='https://wandb.ai/lokendrakumar/Assignment1' target=\"_blank\">https://wandb.ai/lokendrakumar/Assignment1</a>"
            ]
          },
          "metadata": {}
        },
        {
          "output_type": "display_data",
          "data": {
            "text/plain": [
              "<IPython.core.display.HTML object>"
            ],
            "text/html": [
              " View sweep at <a href='https://wandb.ai/lokendrakumar/Assignment1/sweeps/pg38l7lr' target=\"_blank\">https://wandb.ai/lokendrakumar/Assignment1/sweeps/pg38l7lr</a>"
            ]
          },
          "metadata": {}
        },
        {
          "output_type": "display_data",
          "data": {
            "text/plain": [
              "<IPython.core.display.HTML object>"
            ],
            "text/html": [
              " View run at <a href='https://wandb.ai/lokendrakumar/Assignment1/runs/r5804u58' target=\"_blank\">https://wandb.ai/lokendrakumar/Assignment1/runs/r5804u58</a>"
            ]
          },
          "metadata": {}
        },
        {
          "output_type": "stream",
          "name": "stderr",
          "text": [
            "  0%|          | 0/10 [00:00<?, ?it/s]\n",
            "\u001b[34m\u001b[1mwandb\u001b[0m: \u001b[32m\u001b[41mERROR\u001b[0m Run r5804u58 errored:\n",
            "\u001b[34m\u001b[1mwandb\u001b[0m: \u001b[32m\u001b[41mERROR\u001b[0m Traceback (most recent call last):\n",
            "\u001b[34m\u001b[1mwandb\u001b[0m: \u001b[32m\u001b[41mERROR\u001b[0m   File \"/usr/local/lib/python3.10/dist-packages/wandb/agents/pyagent.py\", line 308, in _run_job\n",
            "\u001b[34m\u001b[1mwandb\u001b[0m: \u001b[32m\u001b[41mERROR\u001b[0m     self._function()\n",
            "\u001b[34m\u001b[1mwandb\u001b[0m: \u001b[32m\u001b[41mERROR\u001b[0m   File \"<ipython-input-80-82913d7de1ef>\", line 45, in train_Neural_Network\n",
            "\u001b[34m\u001b[1mwandb\u001b[0m: \u001b[32m\u001b[41mERROR\u001b[0m     nn_model.backward_propogation()\n",
            "\u001b[34m\u001b[1mwandb\u001b[0m: \u001b[32m\u001b[41mERROR\u001b[0m   File \"<ipython-input-73-22f538665ce0>\", line 139, in backward_propogation\n",
            "\u001b[34m\u001b[1mwandb\u001b[0m: \u001b[32m\u001b[41mERROR\u001b[0m     wandb.log({\n",
            "\u001b[34m\u001b[1mwandb\u001b[0m: \u001b[32m\u001b[41mERROR\u001b[0m   File \"/usr/local/lib/python3.10/dist-packages/wandb/sdk/lib/preinit.py\", line 36, in preinit_wrapper\n",
            "\u001b[34m\u001b[1mwandb\u001b[0m: \u001b[32m\u001b[41mERROR\u001b[0m     raise wandb.Error(f\"You must call wandb.init() before {name}()\")\n",
            "\u001b[34m\u001b[1mwandb\u001b[0m: \u001b[32m\u001b[41mERROR\u001b[0m wandb.errors.Error: You must call wandb.init() before wandb.log()\n",
            "\u001b[34m\u001b[1mwandb\u001b[0m: \u001b[32m\u001b[41mERROR\u001b[0m \n",
            "\u001b[34m\u001b[1mwandb\u001b[0m: Ctrl + C detected. Stopping sweep.\n"
          ]
        }
      ]
    },
    {
      "cell_type": "code",
      "source": [
        "# Example configuration, replace this with your desired configuration\n",
        "config = {\n",
        "    \"num_epochs\": 10,\n",
        "    \"num_hidden_layers\": 3,\n",
        "    \"size_hidden_layer\": 64,\n",
        "    \"optimizer\": \"Adam\",\n",
        "    \"batch_size\": 128,\n",
        "    \"weight_init\": \"xavier\",\n",
        "    \"activation\": \"Relu\",\n",
        "    \"loss\": \"Cross_Entropy\"\n",
        "}\n",
        "\n",
        "# Call the function with the specified configuration\n",
        "train_nn(config)"
      ],
      "metadata": {
        "colab": {
          "base_uri": "https://localhost:8080/"
        },
        "id": "rnmG3DQKJiBm",
        "outputId": "cd2da739-215c-4d49-94fe-2dbbf9ece09c"
      },
      "execution_count": null,
      "outputs": [
        {
          "output_type": "stream",
          "name": "stdout",
          "text": [
            "{'num_epochs': 10, 'num_hidden_layers': 3, 'size_hidden_layer': 64, 'optimizer': 'Adam', 'batch_size': 128, 'weight_init': 'xavier', 'activation': 'Relu', 'loss': 'Cross_Entropy'}\n"
          ]
        },
        {
          "output_type": "stream",
          "name": "stderr",
          "text": [
            "100%|██████████| 10/10 [00:03<00:00,  3.23it/s]"
          ]
        },
        {
          "output_type": "stream",
          "name": "stdout",
          "text": [
            "Shape of y_tmp: (500,)\n",
            "Shape of t_tmp: (500,)\n",
            "Shape of y_tmp: (10000,)\n",
            "Shape of t_tmp: (10000,)\n"
          ]
        },
        {
          "output_type": "stream",
          "name": "stderr",
          "text": [
            "\n"
          ]
        }
      ]
    },
    {
      "cell_type": "markdown",
      "source": [
        "## Q.7"
      ],
      "metadata": {
        "id": "CLw1cBBjLVsv"
      }
    },
    {
      "cell_type": "code",
      "source": [
        "# sweep_config = {\"name\": \"best-sweep\", \"method\": \"grid\"}\n",
        "# sweep_config[\"metric\"] = {\"name\": \"loss\", \"goal\": \"minimize\"}\n",
        "\n",
        "parameters_dict = {\n",
        "    \"num_epochs\": {\"values\": [1]},\n",
        "    \"size_hidden_layer\": {\"values\": [64]},\n",
        "    \"optimizer\": {\"values\": [\"Adam\"]},\n",
        "    \"batch_size\": {\"values\": [128]},\n",
        "    \"weight_init\": {\"values\": [\"xavier\"]},\n",
        "    \"activation\": {\"values\": [\"Sigmoid\"]},\n",
        "    \"loss\": {\"values\": [\"Cross_Entropy\"]},\n",
        "}\n",
        "\n",
        "# Commented out sweep_config and parameters assignment\n",
        "# sweep_config[\"parameters\"] = parameters_dict\n",
        "\n",
        "y_test_pred = 0\n",
        "\n",
        "# Removed wandb related code\n",
        "def train_nn(config):\n",
        "    print(config)\n",
        "    global y_test_pred\n",
        "\n",
        "    layers = [Input_Layer(data=X_scaled),\n",
        "              Dense_Layer(size=config['size_hidden_layer'], activation=config['activation'], name=\"HL1\"),\n",
        "              Dense_Layer(size=10, activation=config['activation'], name=\"OL\")]\n",
        "\n",
        "    New_model = NeuralNetwork(layers=layers, batch_size=config['batch_size'],\n",
        "                             optimizer=config['optimizer'], initialization=config['weight_init'],\n",
        "                             epochs=config['num_epochs'], t=t, X_val=X_val_scaled,\n",
        "                             t_val=t_val, loss=config['loss'], wandblogging=True)\n",
        "\n",
        "    New_model.forward_propogation()\n",
        "    first_pass_y = New_model.layers[-1].y\n",
        "    New_model.backward_propogation()\n",
        "    acc_val, loss_val, _ = New_model.check_test(X_val_scaled, t_val)\n",
        "    acc_test, loss_test, y_test_pred = New_model.check_test(X_test_scaled, t_test)\n",
        "\n",
        "    # Removed wandb.log and wandb related code\n",
        "\n",
        "    cf_matrix = confusion_matrix(y_test, y_test_pred)\n",
        "    sns.heatmap(cf_matrix)\n",
        "    plt.title(\"Confusion Matrix\")\n",
        "\n",
        "    data = [[x, y] for (x, y) in zip(y_test, y_test_pred)]\n",
        "\n",
        "    return\n",
        "\n",
        "    # Removed wandb.Table and wandb.sklearn.plot_confusion_matrix related code\n",
        "    # print(y_test.shape, y_test_pred.shape)\n",
        "    # test_images = X_test_scaled[y_test == y_test_pred]\n",
        "\n",
        "# Commented out sweep_id and wandb.agent related code\n",
        "# sweep_id = wandb.sweep(sweep_config, project=\"Assignment1\")\n",
        "# wandb.agent(sweep_id, function=train_nn)\n",
        "\n",
        "\n",
        "        # wandb.log({\"conf_mat\" : wandb.plot.confusion_matrix(\n",
        "        #                 probs=None,\n",
        "        #                 y_true=y_test[:9000],\n",
        "        #                 preds=y_test_pred,\n",
        "        #                 class_names=[\"T-shirt/top\",\"Trouser\",\"Pullover\",\"Dress\",\"Coat\",\"Sandal\",\"Shirt\",\"Sneaker\",\"Bag\",\"Ankle boot\"])})\n",
        "\n",
        "\n",
        "# sweep_id = wandb.sweep(sweep_config, project = \"Assignment1\")\n",
        "# wandb.agent(sweep_id, function = train_nn)\n",
        "#################################################################### [markdown]"
      ],
      "metadata": {
        "id": "vZFtedzOKRON"
      },
      "execution_count": null,
      "outputs": []
    },
    {
      "cell_type": "code",
      "source": [
        "# Sample configuration, replace it with the desired values\n",
        "config = {\n",
        "    \"num_epochs\": 100,\n",
        "    \"size_hidden_layer\": 64,\n",
        "    \"optimizer\": \"Adam\",\n",
        "    \"batch_size\": 512,\n",
        "    \"weight_init\": \"xavier\",\n",
        "    \"activation\": \"Sigmoid\",\n",
        "    \"loss\": \"Cross_Entropy\",\n",
        "}\n",
        "\n",
        "# Call the train_nn function with the configuration\n",
        "train_nn(config)"
      ],
      "metadata": {
        "colab": {
          "base_uri": "https://localhost:8080/",
          "height": 556
        },
        "id": "Cz-Je36iM7FY",
        "outputId": "cf9ed67d-a252-4a6a-c20e-343ddcb62b1f"
      },
      "execution_count": null,
      "outputs": [
        {
          "output_type": "stream",
          "name": "stdout",
          "text": [
            "{'num_epochs': 100, 'size_hidden_layer': 64, 'optimizer': 'Adam', 'batch_size': 512, 'weight_init': 'xavier', 'activation': 'Sigmoid', 'loss': 'Cross_Entropy'}\n"
          ]
        },
        {
          "output_type": "stream",
          "name": "stderr",
          "text": [
            "100%|██████████| 100/100 [00:10<00:00,  9.24it/s]\n"
          ]
        },
        {
          "output_type": "stream",
          "name": "stdout",
          "text": [
            "Shape of y_tmp: (500,)\n",
            "Shape of t_tmp: (500,)\n",
            "Shape of y_tmp: (10000,)\n",
            "Shape of t_tmp: (10000,)\n"
          ]
        },
        {
          "output_type": "display_data",
          "data": {
            "text/plain": [
              "<Figure size 640x480 with 2 Axes>"
            ],
            "image/png": "[encoded data removed]"
          },
          "metadata": {}
        }
      ]
    },
    {
      "cell_type": "markdown",
      "source": [
        "## Q.10"
      ],
      "metadata": {
        "id": "IPfLOGM1VOYT"
      }
    },
    {
      "cell_type": "code",
      "source": [
        "\n",
        "from keras.datasets import fashion_mnist, mnist\n",
        "\n",
        "print(\"Loading data... \", end=\"\")\n",
        "[(x_train, train_y_labels), (x_test, test_y_labels)] = mnist.load_data()\n",
        "x_train, x_val, train_y_labels, val_y_labels = train_test_split(x_train, train_y_labels, test_size=0.2, random_state=2)\n",
        "\n",
        "print(\"Size of Training data:\", x_train.shape)\n",
        "print(\"Size of Validation data:\", x_val.shape)\n",
        "\n",
        "print(\"Performing Scaling and Encoding transformations on the data... \", end=\"\")\n",
        "\n",
        "normalizedX = x_train / 255\n",
        "normalized_xval = x_val / 255\n",
        "normalized_xtest = x_test / 255\n",
        "\n",
        "normalizedX = normalizedX.reshape(normalizedX.shape[0], normalizedX.shape[1]*normalizedX.shape[2]).T\n",
        "normalized_xval = normalized_xval.reshape(normalized_xval.shape[0], normalized_xval.shape[1]*normalized_xval.shape[2]).T\n",
        "normalized_xtest = normalized_xtest.reshape(normalized_xtest.shape[0], normalized_xtest.shape[1]*normalized_xtest.shape[2]).T\n",
        "\n",
        "encoder = OneHotEncoder()\n",
        "t = encoder.fit_transform(y_train, 10)\n",
        "t_val = encoder.fit_transform(y_val, 10)\n",
        "t_test = encoder.fit_transform(y_test, 10)\n",
        "print(\"Done!\")\n",
        "\n",
        "\n",
        "\n",
        "normalizedX = normalizedX\n",
        "normalized_xval = normalized_xval\n",
        "t = t\n",
        "t_val = t_val\n",
        "\n",
        "\n",
        "#################################################################\n",
        "layers = [Input_Layer(data = normalizedX),\n",
        "          Dense_Layer(size=128, activation=\"Relu\", name=\"HiddenLayer1\"),\n",
        "          Dense_Layer(size=128, activation=\"Relu\", name=\"HiddenLayer2\"),\n",
        "          Dense_Layer(size=128, activation=\"Relu\", name=\"HiddenLayer2\"),\n",
        "          Dense_Layer(size=10, activation=\"Sigmoid\", name=\"OutputLayer\")]\n",
        "\n",
        "DLModel = NeuralNetwork(layers=layers, batch_size=128, optimizer=\"Nadam\", \\\n",
        "                      initialization=\"xavier\", loss=\"Cross_Entropy\", \\\n",
        "                      epochs=int(10), t=t, X_val=normalized_xval, t_val=t_val, \\\n",
        "                      wandblogging=False)\n",
        "\n",
        "DLModel.forward_propogation()\n",
        "SinglePass = DLModel.layers[-1].y\n",
        "DLModel.backward_propogation()\n",
        "\n",
        "\n",
        "#################################################################\n",
        "\n",
        "\n",
        "acc_val, loss_val, _ = DLModel.TestingData(normalized_xval, t_val)\n",
        "acc_test, loss_test, _ = DLModel.TestingData(normalized_xtest, t_test)\n",
        "\n",
        "print('-------------------------------')\n",
        "print(\"Training Data\")\n",
        "print(\"Fraction Correctly classified in untrained network:\", np.sum(np.argmax(SinglePass, axis=0) == train_y_labels[:2000])/2000)\n",
        "print(\"Fraction Correctly classified in trained network:\", np.sum(np.argmax((DLModel.layers[-1].y), axis=0) == train_y_labels[:2000])/2000)\n",
        "\n",
        "print('-------------------------------')\n",
        "print(\"Validation Data\")\n",
        "print(\"Fraction Correctly classified in trained network:\", acc_val/t_val.shape[1])\n",
        "\n",
        "print('-------------------------------')\n",
        "print(\"Testing Data\")\n",
        "print(\"Fraction Correctly classified in trained network:\", acc_test/t_test.shape[1])\n",
        "\n",
        "#################################################################\n",
        "plt.figure()\n",
        "plt.plot(np.array(DLModel.accuracy_hist_val)/500, label=\"training accuracy\")\n",
        "plt.plot(np.array(DLModel.accuracy_hist)/2000, label=\"validation accuracy\")\n",
        "plt.title(\"Accuracy of the model\")\n",
        "plt.legend()\n",
        "plt.grid()\n",
        "plt.show()\n",
        "\n",
        "plt.figure()\n",
        "plt.plot(np.array(DLModel.loss_hist)/2000, label=\"training loss\")\n",
        "plt.plot(np.array(DLModel.loss_hist_val)/500, label=\"validation loss\")\n",
        "plt.title(\"Loss of the model\")\n",
        "plt.legend()\n",
        "plt.grid()\n",
        "plt.show()"
      ],
      "metadata": {
        "colab": {
          "base_uri": "https://localhost:8080/",
          "height": 425
        },
        "id": "3aWtPPrmNTe4",
        "outputId": "a41cd393-2823-4725-949b-d7b5d5021031"
      },
      "execution_count": null,
      "outputs": [
        {
          "output_type": "stream",
          "name": "stdout",
          "text": [
            "Loading data... Size of Training data: (48000, 28, 28)\n",
            "Size of Validation data: (12000, 28, 28)\n",
            "Performing Scaling and Encoding transformations on the data... Done!\n"
          ]
        },
        {
          "output_type": "stream",
          "name": "stderr",
          "text": [
            "  0%|          | 0/10 [02:51<?, ?it/s]\n"
          ]
        },
        {
          "output_type": "error",
          "ename": "KeyboardInterrupt",
          "evalue": "",
          "traceback": [
            "\u001b[0;31m---------------------------------------------------------------------------\u001b[0m",
            "\u001b[0;31mKeyboardInterrupt\u001b[0m                         Traceback (most recent call last)",
            "\u001b[0;32m<ipython-input-47-129de66f356e>\u001b[0m in \u001b[0;36m<cell line: 48>\u001b[0;34m()\u001b[0m\n\u001b[1;32m     46\u001b[0m \u001b[0mDLModel\u001b[0m\u001b[0;34m.\u001b[0m\u001b[0mforward_propogation\u001b[0m\u001b[0;34m(\u001b[0m\u001b[0;34m)\u001b[0m\u001b[0;34m\u001b[0m\u001b[0;34m\u001b[0m\u001b[0m\n\u001b[1;32m     47\u001b[0m \u001b[0mSinglePass\u001b[0m \u001b[0;34m=\u001b[0m \u001b[0mDLModel\u001b[0m\u001b[0;34m.\u001b[0m\u001b[0mlayers\u001b[0m\u001b[0;34m[\u001b[0m\u001b[0;34m-\u001b[0m\u001b[0;36m1\u001b[0m\u001b[0;34m]\u001b[0m\u001b[0;34m.\u001b[0m\u001b[0my\u001b[0m\u001b[0;34m\u001b[0m\u001b[0;34m\u001b[0m\u001b[0m\n\u001b[0;32m---> 48\u001b[0;31m \u001b[0mDLModel\u001b[0m\u001b[0;34m.\u001b[0m\u001b[0mbackward_propogation\u001b[0m\u001b[0;34m(\u001b[0m\u001b[0;34m)\u001b[0m\u001b[0;34m\u001b[0m\u001b[0;34m\u001b[0m\u001b[0m\n\u001b[0m\u001b[1;32m     49\u001b[0m \u001b[0;34m\u001b[0m\u001b[0m\n\u001b[1;32m     50\u001b[0m \u001b[0;34m\u001b[0m\u001b[0m\n",
            "\u001b[0;32m<ipython-input-42-3cca141a3c8a>\u001b[0m in \u001b[0;36mbackward_propogation\u001b[0;34m(self)\u001b[0m\n\u001b[1;32m    211\u001b[0m \u001b[0;34m\u001b[0m\u001b[0m\n\u001b[1;32m    212\u001b[0m \u001b[0;34m\u001b[0m\u001b[0m\n\u001b[0;32m--> 213\u001b[0;31m                 \u001b[0mself\u001b[0m\u001b[0;34m.\u001b[0m\u001b[0mforward_propogation\u001b[0m\u001b[0;34m(\u001b[0m\u001b[0;34m)\u001b[0m\u001b[0;34m\u001b[0m\u001b[0;34m\u001b[0m\u001b[0m\n\u001b[0m\u001b[1;32m    214\u001b[0m \u001b[0;34m\u001b[0m\u001b[0m\n\u001b[1;32m    215\u001b[0m             \u001b[0;32mif\u001b[0m \u001b[0mflag\u001b[0m \u001b[0;34m==\u001b[0m \u001b[0;36m1\u001b[0m\u001b[0;34m:\u001b[0m\u001b[0;34m\u001b[0m\u001b[0;34m\u001b[0m\u001b[0m\n",
            "\u001b[0;32m<ipython-input-42-3cca141a3c8a>\u001b[0m in \u001b[0;36mforward_propogation\u001b[0;34m(self)\u001b[0m\n\u001b[1;32m     62\u001b[0m             \u001b[0mself\u001b[0m\u001b[0;34m.\u001b[0m\u001b[0mlayers\u001b[0m\u001b[0;34m[\u001b[0m\u001b[0mi\u001b[0m\u001b[0;34m]\u001b[0m\u001b[0;34m.\u001b[0m\u001b[0mh\u001b[0m \u001b[0;34m=\u001b[0m \u001b[0mself\u001b[0m\u001b[0;34m.\u001b[0m\u001b[0mlayers\u001b[0m\u001b[0;34m[\u001b[0m\u001b[0mi\u001b[0m\u001b[0;34m]\u001b[0m\u001b[0;34m.\u001b[0m\u001b[0mWeights\u001b[0m \u001b[0;34m@\u001b[0m \u001b[0mself\u001b[0m\u001b[0;34m.\u001b[0m\u001b[0mlayers\u001b[0m\u001b[0;34m[\u001b[0m\u001b[0mi\u001b[0m\u001b[0;34m-\u001b[0m\u001b[0;36m1\u001b[0m\u001b[0;34m]\u001b[0m\u001b[0;34m.\u001b[0m\u001b[0ma\u001b[0m \u001b[0;34m-\u001b[0m \u001b[0mself\u001b[0m\u001b[0;34m.\u001b[0m\u001b[0mlayers\u001b[0m\u001b[0;34m[\u001b[0m\u001b[0mi\u001b[0m\u001b[0;34m]\u001b[0m\u001b[0;34m.\u001b[0m\u001b[0mBiases\u001b[0m\u001b[0;34m\u001b[0m\u001b[0;34m\u001b[0m\u001b[0m\n\u001b[1;32m     63\u001b[0m             \u001b[0;31m# Activation\u001b[0m\u001b[0;34m\u001b[0m\u001b[0;34m\u001b[0m\u001b[0m\n\u001b[0;32m---> 64\u001b[0;31m             \u001b[0mself\u001b[0m\u001b[0;34m.\u001b[0m\u001b[0mlayers\u001b[0m\u001b[0;34m[\u001b[0m\u001b[0mi\u001b[0m\u001b[0;34m]\u001b[0m\u001b[0;34m.\u001b[0m\u001b[0ma\u001b[0m \u001b[0;34m=\u001b[0m \u001b[0mself\u001b[0m\u001b[0;34m.\u001b[0m\u001b[0mlayers\u001b[0m\u001b[0;34m[\u001b[0m\u001b[0mi\u001b[0m\u001b[0;34m]\u001b[0m\u001b[0;34m.\u001b[0m\u001b[0mactivation\u001b[0m\u001b[0;34m.\u001b[0m\u001b[0mvalue\u001b[0m\u001b[0;34m(\u001b[0m\u001b[0mself\u001b[0m\u001b[0;34m.\u001b[0m\u001b[0mlayers\u001b[0m\u001b[0;34m[\u001b[0m\u001b[0mi\u001b[0m\u001b[0;34m]\u001b[0m\u001b[0;34m.\u001b[0m\u001b[0mh\u001b[0m\u001b[0;34m)\u001b[0m\u001b[0;34m\u001b[0m\u001b[0;34m\u001b[0m\u001b[0m\n\u001b[0m\u001b[1;32m     65\u001b[0m             \u001b[0;31m# Validation\u001b[0m\u001b[0;34m\u001b[0m\u001b[0;34m\u001b[0m\u001b[0m\n\u001b[1;32m     66\u001b[0m             \u001b[0mself\u001b[0m\u001b[0;34m.\u001b[0m\u001b[0mlayers\u001b[0m\u001b[0;34m[\u001b[0m\u001b[0mi\u001b[0m\u001b[0;34m]\u001b[0m\u001b[0;34m.\u001b[0m\u001b[0mh_val\u001b[0m \u001b[0;34m=\u001b[0m \u001b[0mself\u001b[0m\u001b[0;34m.\u001b[0m\u001b[0mlayers\u001b[0m\u001b[0;34m[\u001b[0m\u001b[0mi\u001b[0m\u001b[0;34m]\u001b[0m\u001b[0;34m.\u001b[0m\u001b[0mWeights\u001b[0m \u001b[0;34m@\u001b[0m \u001b[0mself\u001b[0m\u001b[0;34m.\u001b[0m\u001b[0mlayers\u001b[0m\u001b[0;34m[\u001b[0m\u001b[0mi\u001b[0m\u001b[0;34m-\u001b[0m\u001b[0;36m1\u001b[0m\u001b[0;34m]\u001b[0m\u001b[0;34m.\u001b[0m\u001b[0ma_val\u001b[0m \u001b[0;34m-\u001b[0m \u001b[0mself\u001b[0m\u001b[0;34m.\u001b[0m\u001b[0mlayers\u001b[0m\u001b[0;34m[\u001b[0m\u001b[0mi\u001b[0m\u001b[0;34m]\u001b[0m\u001b[0;34m.\u001b[0m\u001b[0mBiases\u001b[0m\u001b[0;34m\u001b[0m\u001b[0;34m\u001b[0m\u001b[0m\n",
            "\u001b[0;32m<ipython-input-3-28777bb481f8>\u001b[0m in \u001b[0;36mvalue\u001b[0;34m(self, x)\u001b[0m\n\u001b[1;32m     40\u001b[0m         \u001b[0;32mpass\u001b[0m\u001b[0;34m\u001b[0m\u001b[0;34m\u001b[0m\u001b[0m\n\u001b[1;32m     41\u001b[0m \u001b[0;34m\u001b[0m\u001b[0m\n\u001b[0;32m---> 42\u001b[0;31m     \u001b[0;32mdef\u001b[0m \u001b[0mvalue\u001b[0m\u001b[0;34m(\u001b[0m\u001b[0mself\u001b[0m\u001b[0;34m,\u001b[0m \u001b[0mx\u001b[0m\u001b[0;34m)\u001b[0m\u001b[0;34m:\u001b[0m\u001b[0;34m\u001b[0m\u001b[0;34m\u001b[0m\u001b[0m\n\u001b[0m\u001b[1;32m     43\u001b[0m       \u001b[0;31m# ReLU function: f(x) = max(0, x)\u001b[0m\u001b[0;34m\u001b[0m\u001b[0;34m\u001b[0m\u001b[0m\n\u001b[1;32m     44\u001b[0m         \u001b[0mval\u001b[0m \u001b[0;34m=\u001b[0m \u001b[0mx\u001b[0m\u001b[0;34m\u001b[0m\u001b[0;34m\u001b[0m\u001b[0m\n",
            "\u001b[0;31mKeyboardInterrupt\u001b[0m: "
          ]
        }
      ]
    }
  ]
}