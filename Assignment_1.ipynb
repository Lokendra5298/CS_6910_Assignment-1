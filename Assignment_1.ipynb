{
  "nbformat": 4,
  "nbformat_minor": 0,
  "metadata": {
    "colab": {
      "provenance": []
    },
    "kernelspec": {
      "name": "python3",
      "display_name": "Python 3"
    },
    "language_info": {
      "name": "python"
    }
  },
  "cells": [
    {
      "cell_type": "code",
      "source": [
        "!pip install wandb\n",
        "import wandb\n"
      ],
      "metadata": {
        "colab": {
          "base_uri": "https://localhost:8080/"
        },
        "id": "PZb7HEObAGmZ",
        "outputId": "bb7c81cb-3717-4621-9f51-7dee3f41dcfc"
      },
      "execution_count": null,
      "outputs": [
        {
          "output_type": "stream",
          "name": "stdout",
          "text": [
            "Collecting wandb\n",
            "  Downloading wandb-0.16.4-py3-none-any.whl (2.2 MB)\n",
            "\u001b[2K     \u001b[90m━━━━━━━━━━━━━━━━━━━━━━━━━━━━━━━━━━━━━━━━\u001b[0m \u001b[32m2.2/2.2 MB\u001b[0m \u001b[31m10.0 MB/s\u001b[0m eta \u001b[36m0:00:00\u001b[0m\n",
            "\u001b[?25hRequirement already satisfied: Click!=8.0.0,>=7.1 in /usr/local/lib/python3.10/dist-packages (from wandb) (8.1.7)\n",
            "Collecting GitPython!=3.1.29,>=1.0.0 (from wandb)\n",
            "  Downloading GitPython-3.1.42-py3-none-any.whl (195 kB)\n",
            "\u001b[2K     \u001b[90m━━━━━━━━━━━━━━━━━━━━━━━━━━━━━━━━━━━━━━━━\u001b[0m \u001b[32m195.4/195.4 kB\u001b[0m \u001b[31m23.9 MB/s\u001b[0m eta \u001b[36m0:00:00\u001b[0m\n",
            "\u001b[?25hRequirement already satisfied: requests<3,>=2.0.0 in /usr/local/lib/python3.10/dist-packages (from wandb) (2.31.0)\n",
            "Requirement already satisfied: psutil>=5.0.0 in /usr/local/lib/python3.10/dist-packages (from wandb) (5.9.5)\n",
            "Collecting sentry-sdk>=1.0.0 (from wandb)\n",
            "  Downloading sentry_sdk-1.42.0-py2.py3-none-any.whl (263 kB)\n",
            "\u001b[2K     \u001b[90m━━━━━━━━━━━━━━━━━━━━━━━━━━━━━━━━━━━━━━━━\u001b[0m \u001b[32m263.5/263.5 kB\u001b[0m \u001b[31m33.0 MB/s\u001b[0m eta \u001b[36m0:00:00\u001b[0m\n",
            "\u001b[?25hCollecting docker-pycreds>=0.4.0 (from wandb)\n",
            "  Downloading docker_pycreds-0.4.0-py2.py3-none-any.whl (9.0 kB)\n",
            "Requirement already satisfied: PyYAML in /usr/local/lib/python3.10/dist-packages (from wandb) (6.0.1)\n",
            "Collecting setproctitle (from wandb)\n",
            "  Downloading setproctitle-1.3.3-cp310-cp310-manylinux_2_5_x86_64.manylinux1_x86_64.manylinux_2_17_x86_64.manylinux2014_x86_64.whl (30 kB)\n",
            "Requirement already satisfied: setuptools in /usr/local/lib/python3.10/dist-packages (from wandb) (67.7.2)\n",
            "Requirement already satisfied: appdirs>=1.4.3 in /usr/local/lib/python3.10/dist-packages (from wandb) (1.4.4)\n",
            "Requirement already satisfied: protobuf!=4.21.0,<5,>=3.19.0 in /usr/local/lib/python3.10/dist-packages (from wandb) (3.20.3)\n",
            "Requirement already satisfied: six>=1.4.0 in /usr/local/lib/python3.10/dist-packages (from docker-pycreds>=0.4.0->wandb) (1.16.0)\n",
            "Collecting gitdb<5,>=4.0.1 (from GitPython!=3.1.29,>=1.0.0->wandb)\n",
            "  Downloading gitdb-4.0.11-py3-none-any.whl (62 kB)\n",
            "\u001b[2K     \u001b[90m━━━━━━━━━━━━━━━━━━━━━━━━━━━━━━━━━━━━━━━━\u001b[0m \u001b[32m62.7/62.7 kB\u001b[0m \u001b[31m9.8 MB/s\u001b[0m eta \u001b[36m0:00:00\u001b[0m\n",
            "\u001b[?25hRequirement already satisfied: charset-normalizer<4,>=2 in /usr/local/lib/python3.10/dist-packages (from requests<3,>=2.0.0->wandb) (3.3.2)\n",
            "Requirement already satisfied: idna<4,>=2.5 in /usr/local/lib/python3.10/dist-packages (from requests<3,>=2.0.0->wandb) (3.6)\n",
            "Requirement already satisfied: urllib3<3,>=1.21.1 in /usr/local/lib/python3.10/dist-packages (from requests<3,>=2.0.0->wandb) (2.0.7)\n",
            "Requirement already satisfied: certifi>=2017.4.17 in /usr/local/lib/python3.10/dist-packages (from requests<3,>=2.0.0->wandb) (2024.2.2)\n",
            "Collecting smmap<6,>=3.0.1 (from gitdb<5,>=4.0.1->GitPython!=3.1.29,>=1.0.0->wandb)\n",
            "  Downloading smmap-5.0.1-py3-none-any.whl (24 kB)\n",
            "Installing collected packages: smmap, setproctitle, sentry-sdk, docker-pycreds, gitdb, GitPython, wandb\n",
            "Successfully installed GitPython-3.1.42 docker-pycreds-0.4.0 gitdb-4.0.11 sentry-sdk-1.42.0 setproctitle-1.3.3 smmap-5.0.1 wandb-0.16.4\n"
          ]
        }
      ]
    },
    {
      "cell_type": "code",
      "execution_count": null,
      "metadata": {
        "id": "CHx5qHfOaaTD"
      },
      "outputs": [],
      "source": [
        "import numpy as np\n",
        "from keras.datasets import fashion_mnist\n",
        "import matplotlib.pyplot as plt\n",
        "from sklearn.model_selection import train_test_split\n",
        "from sklearn.metrics import classification_report, accuracy_score, confusion_matrix\n",
        "import seaborn as sns\n",
        "\n",
        "\n",
        "import warnings\n",
        "warnings.filterwarnings(\"ignore\")"
      ]
    },
    {
      "cell_type": "code",
      "source": [
        "# Loading data\n",
        "\n",
        "[(x_train, y_train), (x_test, y_test)] = fashion_mnist.load_data()\n",
        "x_train, x_val, y_train, y_val = train_test_split(x_train, y_train, test_size=0.2, random_state=2)\n",
        "\n",
        "print(\"Size of Training data:\", x_train.shape)\n",
        "print(\"Size of Validation data:\", x_val.shape)\n",
        "print(\"Size of Training labels:\", y_train.shape)\n",
        "print(\"Size of Validation labels:\", y_val.shape)\n",
        "print(\"Size of Test data:\", x_test.shape)\n",
        "print(\"Size of Test labels:\", y_test.shape)\n",
        "\n",
        "# Performing Scaling transformations on the data\n",
        "X_scaled = x_train / 255\n",
        "X_val_scaled = x_val / 255\n",
        "X_test_scaled = x_test / 255\n",
        "\n",
        "X_scaled = X_scaled.reshape(X_scaled.shape[0], X_scaled.shape[1]*X_scaled.shape[2]).T\n",
        "X_val_scaled = X_val_scaled.reshape(X_val_scaled.shape[0], X_val_scaled.shape[1]*X_val_scaled.shape[2]).T\n",
        "X_test_scaled = X_test_scaled.reshape(X_test_scaled.shape[0], X_test_scaled.shape[1]*X_test_scaled.shape[2]).T"
      ],
      "metadata": {
        "colab": {
          "base_uri": "https://localhost:8080/"
        },
        "id": "0rIcTIewFVq1",
        "outputId": "b3bc095f-1835-4241-a9c6-c6eeb9033129"
      },
      "execution_count": null,
      "outputs": [
        {
          "output_type": "stream",
          "name": "stdout",
          "text": [
            "Downloading data from https://storage.googleapis.com/tensorflow/tf-keras-datasets/train-labels-idx1-ubyte.gz\n",
            "29515/29515 [==============================] - 0s 0us/step\n",
            "Downloading data from https://storage.googleapis.com/tensorflow/tf-keras-datasets/train-images-idx3-ubyte.gz\n",
            "26421880/26421880 [==============================] - 0s 0us/step\n",
            "Downloading data from https://storage.googleapis.com/tensorflow/tf-keras-datasets/t10k-labels-idx1-ubyte.gz\n",
            "5148/5148 [==============================] - 0s 0us/step\n",
            "Downloading data from https://storage.googleapis.com/tensorflow/tf-keras-datasets/t10k-images-idx3-ubyte.gz\n",
            "4422102/4422102 [==============================] - 0s 0us/step\n",
            "Size of Training data: (48000, 28, 28)\n",
            "Size of Validation data: (12000, 28, 28)\n",
            "Size of Training labels: (48000,)\n",
            "Size of Validation labels: (12000,)\n",
            "Size of Test data: (10000, 28, 28)\n",
            "Size of Test labels: (10000,)\n"
          ]
        }
      ]
    },
    {
      "cell_type": "code",
      "source": [
        "print(\"Size of Scaled Training data:\", X_scaled.shape)\n",
        "print(\"Size of Scaled Validation data:\", X_val_scaled.shape)\n",
        "print(\"Size of Scaled Test data:\", X_test_scaled.shape)"
      ],
      "metadata": {
        "colab": {
          "base_uri": "https://localhost:8080/"
        },
        "id": "Mel4V-T5LGoa",
        "outputId": "cb1afca2-3002-4833-d3da-ba852c608222"
      },
      "execution_count": null,
      "outputs": [
        {
          "output_type": "stream",
          "name": "stdout",
          "text": [
            "Size of Scaled Training data: (784, 48000)\n",
            "Size of Scaled Validation data: (784, 12000)\n",
            "Size of Scaled Test data: (784, 10000)\n"
          ]
        }
      ]
    },
    {
      "cell_type": "markdown",
      "source": [
        "# Activation functions with its derivatives"
      ],
      "metadata": {
        "id": "Un6_zDJXbTI8"
      }
    },
    {
      "cell_type": "code",
      "source": [
        "import numpy as np\n",
        "\n",
        "class Sigmoid():\n",
        "# Initialize the Sigmoid function with parameters c and b\n",
        "    def __init__(self, w=1, b=0):\n",
        "        self.w = w\n",
        "        self.b = b\n",
        "\n",
        "# Calculate the sigmoid function value for input x\n",
        "    def value(self, x):\n",
        "        fun_val = 1 + np.exp(-self.w * (x + self.b))\n",
        "        return 1 / fun_val\n",
        "\n",
        "    def diff(self, x, remove=False):\n",
        "        y = self.value(x)\n",
        "        if remove:\n",
        "  # Remove the last element from the array\n",
        "            y = y[:-1]\n",
        "  # Calculate the derivative of the sigmoid function with respect to x\n",
        "        fun_val = self.w * y * (1 - y)\n",
        "        return fun_val\n",
        "\n",
        "\n",
        "class Tanh():\n",
        "    def __init__(self):\n",
        "        pass\n",
        "\n",
        "    def value(self, x):\n",
        "       # tanh(z) = (e^z - e^(-z)) / (e^z + e^(-z))\n",
        "        return np.exp(x) - np.exp(-x)/np.exp(x) + np.exp(-x)\n",
        "\n",
        "    def der_tanh(self, x):\n",
        "        y = self.value(x)\n",
        "        fun_val = 1 - y**2 # 1 - tanh(z)^2\n",
        "        return fun_val\n",
        "\n",
        "class Relu():\n",
        "    def __init__(self):\n",
        "        pass\n",
        "\n",
        "    def value(self, x):\n",
        "      # ReLU function: f(x) = max(0, x)\n",
        "        fun_val = x\n",
        "        fun_val[fun_val<0] = 0\n",
        "        return fun_val\n",
        "\n",
        "    def diff(self, x):\n",
        "      # Derivative of the ReLU function: 1 for x > 0, 0 for x <= 0\n",
        "        fun_val = np.ones(x.shape)\n",
        "        fun_val[fun_val<=0] = 0\n",
        "        return fun_val\n",
        "\n",
        "class Softmax():\n",
        "    def __init__(self):\n",
        "        pass\n",
        "\n",
        "    def value(self, x):\n",
        "        fun_val = np.exp(x)/np.sum(np.exp(x), axis=0)\n",
        "        # print(\"X shape\", x.shape, \"Val shape\", val.shape)\n",
        "        return fun_val\n",
        "\n",
        "    def diff(self, x):\n",
        "        y = self.value(x)\n",
        "        matrix = np.tile(y, y.shape[0])\n",
        "        print(y.shape, matrix.shape)\n",
        "        fun_val = np.diag(y.reshape(-1,)) -(matrix * matrix.T)\n",
        "        return fun_val\n"
      ],
      "metadata": {
        "id": "VQdX67L6arUU"
      },
      "execution_count": null,
      "outputs": []
    },
    {
      "cell_type": "markdown",
      "source": [
        "# Loss functions with its derivatives"
      ],
      "metadata": {
        "id": "kWBv-JeMbb8l"
      }
    },
    {
      "cell_type": "code",
      "source": [
        "# Class for Cross Entropy Loss\n",
        "class cross_entropy():\n",
        "    def __init__(self):\n",
        "        pass\n",
        "\n",
        "    # Function to calculate cross entropy loss\n",
        "    def find_loss(self, y_pred, y_true):\n",
        "        self.y_pred = y_pred\n",
        "        self.y_true = y_true\n",
        "        loss_pq = -np.sum(np.sum(self.y_pred*np.log(self.y_true)))\n",
        "        return loss_pq\n",
        "\n",
        "    # Function to calculate the derivative of cross entropy\n",
        "    def diff(self):\n",
        "        grad = -self.y_pred/(self.y_true)\n",
        "        return grad\n",
        "\n",
        "# Class for Squared Error Loss\n",
        "class Squared_Error():\n",
        "    def __init__(self):\n",
        "        pass\n",
        "\n",
        "    # Function to calculate squared error loss\n",
        "    def find_loss(self, y_pred, y_true):\n",
        "        self.y_pred = y_pred\n",
        "        self.y_true = y_true\n",
        "        loss = np.sum((y_pred-y_true)**2)\n",
        "        return loss\n",
        "\n",
        "    # Function to calculate the derivative of squared error loss\n",
        "    def diff(self, y_true, y_pred):\n",
        "        grad = -2*(y_true - y_pred)\n",
        "        return grad\n"
      ],
      "metadata": {
        "id": "BBkdnYb5bR8s"
      },
      "execution_count": null,
      "outputs": []
    },
    {
      "cell_type": "markdown",
      "source": [
        "# One Hot Encoder"
      ],
      "metadata": {
        "id": "8xMt4453blrP"
      }
    },
    {
      "cell_type": "code",
      "source": [
        "class OneHotEncoder():\n",
        "    def __init__(self):\n",
        "        self.num_classes = None\n",
        "\n",
        "    def fit_transform(self, y, num_classes=None):\n",
        "        if num_classes is not None:\n",
        "            self.num_classes = num_classes\n",
        "        else:\n",
        "            # Find unique classes in the target variable\n",
        "            self.num_classes = len(np.unique(y))\n",
        "\n",
        "        # Initialize a zero matrix (num_classes, number of samples)\n",
        "        transformed = np.zeros((self.num_classes, len(y)))\n",
        "\n",
        "        # Set the corresponding element to 1 for each sample\n",
        "        for i, j in enumerate(y):\n",
        "            transformed[j, i] = 1  # Fixed i, j to j, i\n",
        "\n",
        "        return transformed\n",
        "\n",
        "    def inverse_transform(self, y):\n",
        "        # Inverse transform: find the class with the highest value in each column\n",
        "        y_class = np.argmax(y, axis=0)\n",
        "        return y_class\n",
        "\n",
        "# Example usage\n",
        "# encoder = OneHotEncoder()\n",
        "\n",
        "# y = np.array([0, 1, 2, 0, 1])\n",
        "# # Fit and transform\n",
        "# encoded = encoder.fit_transform(y)\n",
        "# print(\"Encoded:\\n\", encoded)\n",
        "# # Inverse transform\n",
        "# decoded = encoder.inverse_transform(encoded)\n",
        "# print(\"Decoded:\", decoded)"
      ],
      "metadata": {
        "id": "VKNm2XsebfbV"
      },
      "execution_count": null,
      "outputs": []
    },
    {
      "cell_type": "markdown",
      "source": [
        "## Input and Dense layers"
      ],
      "metadata": {
        "id": "vpQloz3Wb2b2"
      }
    },
    {
      "cell_type": "code",
      "source": [
        "\n",
        "# from activations import Sigmoid, Tanh, Relu, Softmax\n",
        "Dic_activations = {\"Sigmoid\":Sigmoid(), \"Tanh\":Tanh(), \"Relu\":Relu(), \"Softmax\":Softmax()}\n",
        "\n",
        "class Input_Layer():\n",
        "  def __init__(self, data):\n",
        "    self.name = \"Input\"\n",
        "    self.input = data\n",
        "    self.size = self.input.shape[0]\n",
        "\n",
        "    # Having the input as the activated output to be given to the next layer\n",
        "    self.a = self.input\n",
        "    self.type = \"Input layer\"\n",
        "\n",
        "  def __repr__(self):\n",
        "    # Return a string representation of the Input layer\n",
        "    representation = f\"{self.type} - of Size: {self.size}\"\n",
        "    return representation\n",
        "\n",
        "class Dense_Layer:\n",
        "    def __init__(self, size, activation, name, last=False):\n",
        "        # Initialize Dense layer with specified size, activation function, and name\n",
        "        self.name = name\n",
        "        self.size = size\n",
        "        # Map activation function string to actual function\n",
        "        self.activation = Dic_activations.get(activation)\n",
        "        if self.activation is None:\n",
        "            raise ValueError(f\"Activation function '{activation}' not supported.\")\n",
        "        self.activation_name = activation\n",
        "        self.type = \"Dense layer\"\n",
        "\n",
        "    def __repr__(self):\n",
        "        # Return a string representation of the Dense layer\n",
        "        representation = f\"{self.type} - of Size: {self.size}; Activation: {self.activation_name}\"\n",
        "        return representation\n",
        "\n",
        "# Example\n",
        "input_layer = Input_Layer(np.array([1, 2, 3]))\n",
        "dense_layer = Dense_Layer(size=5, activation='Relu', name='hidden_layer')\n",
        "print(input_layer)\n",
        "print(dense_layer)"
      ],
      "metadata": {
        "colab": {
          "base_uri": "https://localhost:8080/"
        },
        "id": "P1NuEjPnbxgD",
        "outputId": "db20976a-420f-4953-aa72-43fc79d8d4e6"
      },
      "execution_count": null,
      "outputs": [
        {
          "output_type": "stream",
          "name": "stdout",
          "text": [
            "Input layer - of Size: 3\n",
            "Dense layer - of Size: 5; Activation: Relu\n"
          ]
        }
      ]
    },
    {
      "cell_type": "markdown",
      "source": [
        "## Stochastic gradient descent(SGD)"
      ],
      "metadata": {
        "id": "rCeZmRL-cHPp"
      }
    },
    {
      "cell_type": "code",
      "source": [
        "\n",
        "# learning rate = eta\n",
        "class do_stochastic_gradient_descent():\n",
        "    def __init__(self, eta=0.01):\n",
        "# Initialize the SGD object with a learning rate.\n",
        "        self.update = 0\n",
        "        self.eta = eta\n",
        "\n",
        "    def set_parameters(self, parameters):\n",
        "       # Set the parameters of the SGD object, such as the learning rate.\n",
        "        for key in parameters:\n",
        "            setattr(self, key, parameters[key])\n",
        "\n",
        "    def get_update(self, gradient):\n",
        "       # Calculate the update for the parameters based on the gradient and learning rate.\n",
        "        self.update = self.eta * gradient\n",
        "        return self.update\n",
        "\n",
        "# sgd = do_stochastic_gradient_descent(eta=0.01)\n",
        "# parameters = {'param1': 2.0, 'param2': -1.0}\n",
        "# sgd.set_parameters(parameters)\n",
        "# gradient = 1.5\n",
        "# update = sgd.get_update(gradient)\n",
        "# print(update)"
      ],
      "metadata": {
        "id": "dbe5unQLb8FT"
      },
      "execution_count": null,
      "outputs": []
    },
    {
      "cell_type": "markdown",
      "source": [
        "## Momentum based gradient descent\n"
      ],
      "metadata": {
        "id": "rVxRaoR_cRn2"
      }
    },
    {
      "cell_type": "code",
      "source": [
        "\n",
        "class do_momentum_based_gradient_descent():\n",
        "    def __init__(self, eta=0.01, beta=0.9):\n",
        "       # Initialize the MomentumSGD with a learning rate (eta) and momentum term (beta).\n",
        "        self.update = 0\n",
        "        self.eta = eta\n",
        "        self.beta = beta\n",
        "\n",
        "    def set_parameters(self, parameters):\n",
        "       # Set the parameters, such as learning rate and momentum(beta).\n",
        "        for key in parameters:\n",
        "            setattr(self, key, parameters[key])\n",
        "\n",
        "    def get_update(self, gradient):\n",
        "        self.update = self.beta * self.update + self.eta * gradient\n",
        "        return self.update\n"
      ],
      "metadata": {
        "id": "i1CBSItLcMKC"
      },
      "execution_count": null,
      "outputs": []
    },
    {
      "cell_type": "markdown",
      "source": [
        "## Nesterov Accelerated Gradient Descent(NAG)"
      ],
      "metadata": {
        "id": "JDPslrGqcYh7"
      }
    },
    {
      "cell_type": "code",
      "source": [
        "class do_nesterov_accelerated_gradient_descent():\n",
        "    def __init__(self, eta=0.001, beta=0.9):\n",
        "        self.update = 0\n",
        "        self.eta = eta\n",
        "        self.beta = beta\n",
        "\n",
        "    def set_parameters(self, **kwargs):\n",
        "        # Set the parameters of the NAG object, learning rate, and momentum term.\n",
        "        for key, value in kwargs.items():\n",
        "            setattr(self, key, value)\n",
        "\n",
        "    def get_update(self, W, gradient):\n",
        "        # Calculate the NAG update for the parameters based on the current parameters (W), gradient, and momentum term.\n",
        "        W_lookahead = W - self.beta * self.update\n",
        "\n",
        "        grad_lookahead = gradient(W_lookahead)\n",
        "\n",
        "        # Update the momentum term\n",
        "        self.update = self.beta * self.update + self.eta * grad_lookahead\n",
        "\n",
        "        # Update the parameters\n",
        "        W = W - self.update\n",
        "\n",
        "        return W\n"
      ],
      "metadata": {
        "id": "lUrZO6xRcUR9"
      },
      "execution_count": null,
      "outputs": []
    },
    {
      "cell_type": "markdown",
      "source": [
        "## Root Mean Square Propagation(RMSProp)"
      ],
      "metadata": {
        "id": "JyUYVVeBchmN"
      }
    },
    {
      "cell_type": "code",
      "source": [
        "\n",
        "class do_rmsprop():\n",
        "    def __init__(self, beta=0.9, eta = 0.001, epsilon = 1e-8):\n",
        "       # Initialize the RMSProp with a learning rate (eta), decay rate (beta), and epsilon.\n",
        "        self.v = 0\n",
        "        self.beta = beta\n",
        "        self.eta = eta\n",
        "        self.epsilon = epsilon\n",
        "\n",
        "    def set_parameters(self, parameters):\n",
        "       # Set the parameters\n",
        "       # setattr: It allows you to set the value of an attribute on an object given its name as a string\n",
        "        for key in parameters:\n",
        "            setattr(self, key, parameters[key])\n",
        "\n",
        "    def get_update(self, grad):\n",
        "\n",
        "        self.v = self.beta * self.v + (1 - self.beta) * (grad ** 2)\n",
        "        update = (self.eta / (self.v + self.epsilon) ** 0.5) * grad\n",
        "\n",
        "        return update"
      ],
      "metadata": {
        "id": "kBdQQ-KDcdVq"
      },
      "execution_count": null,
      "outputs": []
    },
    {
      "cell_type": "markdown",
      "source": [
        "## Adaptive Moment Estimation(Adam)"
      ],
      "metadata": {
        "id": "kmCAK8h8ck4F"
      }
    },
    {
      "cell_type": "code",
      "source": [
        "class do_adam():\n",
        "    def __init__(self, beta1=0.9, beta2=0.999, eta=0.001, epsilon=1e-8):\n",
        "        # Initialize the Adam object with a learning rate (eta), beta1, beta2, and epsilon.\n",
        "        self.m = 0\n",
        "        self.v = 0\n",
        "        self.beta1 = beta1\n",
        "        self.beta2 = beta2\n",
        "        self.eta = eta\n",
        "        self.epsilon = epsilon\n",
        "        self.iter = 1\n",
        "\n",
        "    def set_parameters(self, parameters):\n",
        "        # Set the parameters of the Adam\n",
        "        for key in parameters:\n",
        "            setattr(self, key, parameters[key])\n",
        "\n",
        "    def get_update(self, grad):\n",
        "        # Update the decaying average of the gradient and squared gradient\n",
        "        self.m = self.beta1 * self.m + (1 - self.beta1) * grad\n",
        "        self.v = self.beta2 * self.v + (1 - self.beta2) * (grad ** 2)\n",
        "\n",
        "        # Correct the bias of the decaying averages\n",
        "        m_corrected = self.m / (1 - self.beta1 ** self.iter)\n",
        "        v_corrected = self.v / (1 - self.beta2 ** self.iter)\n",
        "\n",
        "        # Apply the update to the parameters directly\n",
        "        update = self.eta * m_corrected / (v_corrected + self.epsilon) ** 0.5\n",
        "        self.iter += 1\n",
        "\n",
        "        return update"
      ],
      "metadata": {
        "id": "bA100HzVckS9"
      },
      "execution_count": null,
      "outputs": []
    },
    {
      "cell_type": "markdown",
      "source": [
        "## Nesterov-accelerated Adaptive Moment Estimation(NAdam)"
      ],
      "metadata": {
        "id": "phy0W50mcqYj"
      }
    },
    {
      "cell_type": "code",
      "source": [
        "class do_nadam():\n",
        "    def __init__(self, beta1=0.9, beta2=0.999, eta=0.001, epsilon=1e-8):\n",
        "        self.m = 0\n",
        "        self.v = 0\n",
        "        self.beta1 = beta1\n",
        "        self.beta2 = beta2\n",
        "        self.eta = eta\n",
        "        self.epsilon = epsilon\n",
        "        self.iter = 1\n",
        "\n",
        "    def set_parameters(self, parameters):\n",
        "        for key in parameters:\n",
        "            setattr(self, key, parameters[key])\n",
        "\n",
        "    def get_update(self, grad):\n",
        "        # Update the decaying average of the gradient and square gradient\n",
        "        self.m = self.beta1 * self.m + (1 - self.beta1) * grad\n",
        "        self.v = self.beta2 * self.v + (1 - self.beta2) * (grad ** 2)\n",
        "\n",
        "        # Correct the bias of the decaying averages\n",
        "        m_corrected = self.m / (1 - self.beta1 ** self.iter)\n",
        "        v_corrected = self.v / (1 - self.beta2 ** self.iter)\n",
        "\n",
        "        # Calculate the NAG term using the updated m_corrected value\n",
        "        nag_term = self.beta1 * m_corrected + ((1 - self.beta1) / (1 - self.beta1 ** self.iter)) * grad\n",
        "\n",
        "        update = self.eta * nag_term / (v_corrected + self.epsilon) ** 0.5\n",
        "        self.iter += 1\n",
        "\n",
        "        return update\n"
      ],
      "metadata": {
        "id": "67e7lbtocpMz"
      },
      "execution_count": null,
      "outputs": []
    },
    {
      "cell_type": "code",
      "source": [
        "import math\n",
        "from copy import deepcopy\n",
        "\n",
        "from tqdm import tqdm\n",
        "\n",
        "\n",
        "Dic_optimizers = {\"SGD\":do_stochastic_gradient_descent(), \"Momentum_GD\":do_momentum_based_gradient_descent(), \"NAG\":do_nesterov_accelerated_gradient_descent(), \"RMS_Prop\":do_rmsprop(), \"Adam\":do_adam(), \"Nadam\":do_nadam()}\n",
        "\n",
        "Dic_losses = {\"Squared_Error\":Squared_Error(), \"Cross_Entropy\":cross_entropy()}"
      ],
      "metadata": {
        "id": "fyiUW-f7cx_W"
      },
      "execution_count": null,
      "outputs": []
    },
    {
      "cell_type": "markdown",
      "source": [
        "## FeedForward Neural Network"
      ],
      "metadata": {
        "id": "gSlHbaVrdaVF"
      }
    },
    {
      "cell_type": "code",
      "source": [
        "class FeedForward_NeuralNetwork():\n",
        "    def __init__(self, layers, batch_size, optimizer, initialization, epochs, target_data, loss, X_val=None, t_val=None, wandblogging=False, optimization_parameter=None, learningrate = 0.01):\n",
        "\n",
        "        self.layers = layers\n",
        "        self.batch_size = batch_size\n",
        "        self.optimizer = optimizer\n",
        "        self.initialization = initialization\n",
        "        self.epochs = epochs\n",
        "        self.target_data = target_data\n",
        "        self.loss_type = loss\n",
        "        self.loss = Dic_losses[loss]\n",
        "        self.wandblogging = wandblogging\n",
        "        self.learningrate = learningrate\n",
        "        self.batch_no = math.ceil(self.target_data.shape[1]/batch_size)\n",
        "\n",
        "        if t_val is not None:\n",
        "            self.X_val = X_val\n",
        "            self.layers[0].a_val = X_val\n",
        "            self.t_val = t_val\n",
        "\n",
        "\n",
        "        #initalize optimizer\n",
        "        self.parameter_initialization(optimizer, optimization_parameter)\n",
        "\n",
        "    def parameter_initialization(self, optimizer, parameters):\n",
        "        # Initialize the size of weights for each layer\n",
        "        prev_layer_size = self.layers[0].size\n",
        "        for layer in self.layers[1:]:\n",
        "            layer.W_size = (layer.size, prev_layer_size)\n",
        "            prev_layer_size = layer.size\n",
        "\n",
        "            # making use of optimizer data\n",
        "            layer.W_optimizer = deepcopy(Dic_optimizers[optimizer])\n",
        "            layer.b_optimizer = deepcopy(Dic_optimizers[optimizer])\n",
        "            # Code to set parameters\n",
        "\n",
        "\n",
        "            if parameters:\n",
        "                layer.W_optimizer.set_parameters(parameters)\n",
        "                layer.b_optimizer.set_parameters(parameters)\n",
        "\n",
        "        if self.initialization == \"random\":\n",
        "            for layer in self.layers[1:]:\n",
        "                layer.W = np.random.normal(loc=0, scale=1.0, size = layer.W_size)\n",
        "                layer.b = np.zeros((layer.W_size[0], 1))\n",
        "\n",
        "        elif self.initialization == \"xavier\":\n",
        "            for layer in self.layers[1:]:\n",
        "\n",
        "                scale = 1/max(1., (2+2)/2.)\n",
        "                limit = math.sqrt(3.0 * scale)\n",
        "                layer.W = np.random.uniform(-limit, limit, size=layer.W_size)\n",
        "                layer.b = np.zeros((layer.W_size[0], 1))\n",
        "\n",
        "###########################################################\n",
        "##     Forward Propogation\n",
        "###########################################################\n",
        "\n",
        "    def forward_propogation(self):\n",
        "        for i in range(1, len(self.layers)):\n",
        "            # print(\"Layer:\", i, self.layers[i].W.shape)\n",
        "            # Pre-activation\n",
        "            self.layers[i].h = self.layers[i].W @ self.layers[i-1].a - self.layers[i].b\n",
        "            # Activation\n",
        "            self.layers[i].a = self.layers[i].activation.value(self.layers[i].h)\n",
        "            # Validation\n",
        "            self.layers[i].h_val = self.layers[i].W @ self.layers[i-1].a_val - self.layers[i].b\n",
        "            self.layers[i].a_val = self.layers[i].activation.value(self.layers[i].h_val)\n",
        "\n",
        "        if self.loss_type == \"Cross_Entropy\":\n",
        "            # Final sofmax activation\n",
        "            self.layers[-1].y = Softmax().value(self.layers[-1].a)\n",
        "            self.layers[-1].y_val = Softmax().value(self.layers[-1].a_val)\n",
        "        else:\n",
        "            self.layers[-1].y = self.layers[-1].a\n",
        "            self.layers[-1].y_val = self.layers[-1].a_val\n",
        "\n",
        "###########################################################\n",
        "##     Backward Propogation\n",
        "###########################################################\n",
        "\n",
        "    def backward_propogation(self):\n",
        "        # Initialize variables neesed to keep track of loss\n",
        "        self.eta_hist = []\n",
        "        self.loss_hist = []\n",
        "        self.accuracy_hist = []\n",
        "        self.loss_hist_val = []\n",
        "        self.accuracy_hist_val = []\n",
        "        self.loss = Squared_Error()\n",
        "        flag = 0\n",
        "\n",
        "        # Perform Backprop\n",
        "        for ep in tqdm(range(self.epochs)):\n",
        "            # Store learning rate, loss, and accuracy for training and validation sets\n",
        "            self.eta_hist.append(self.layers[-1].W_optimizer.eta)   # Append the learning rate to history\n",
        "            self.loss_hist.append(self.loss.find_loss(self.target_data, self.layers[-1].y))\n",
        "            train_acc, val_acc = self.get_accuracy(validation=True) # Get training and validation accuracies\n",
        "            self.accuracy_hist.append(train_acc) # Append here train accuracies\n",
        "            self.loss_hist_val.append(self.loss.find_loss(self.t_val, self.layers[-1].y_val)) # Compute and append validation loss\n",
        "            self.accuracy_hist_val.append(val_acc) # Append validation accuracies\n",
        "\n",
        "            if self.wandblogging:\n",
        "                wandb.log({\n",
        "                            \"step\": ep, \\\n",
        "                            \"loss:\": self.loss_hist[-1]/self.target_data.shape[1], \\\n",
        "                            \"accuracy\": self.accuracy_hist[-1]/self.target_data.shape[1], \\\n",
        "                            \"val_loss\": self.loss_hist_val[-1]/self.t_val.shape[1], \\\n",
        "                            \"val_accuracy\": self.accuracy_hist_val[-1]/self.t_val.shape[1]\n",
        "                        })\n",
        "\n",
        "            # Iterate over each batch\n",
        "            for batch in range(self.batch_no):\n",
        "                # print(\"Batch:\", batch)\n",
        "                t_batch = self.target_data[:, batch*self.batch_size:(batch+1)*self.batch_size] # Select target data for the current batch\n",
        "                y_batch = self.layers[-1].y[:, batch*self.batch_size:(batch+1)*self.batch_size] # Select output data\n",
        "                self.y_batch = y_batch\n",
        "                self.t_batch = t_batch\n",
        "\n",
        "                # If loss increased from the previous epoch, adjust learning rate\n",
        "                try:\n",
        "                    if self.loss_hist[-1] > self.loss_hist[-2]:\n",
        "                        for layer in self.layers[1:]:\n",
        "                            layer.W_optimizer.set_parameters({\"eta\":self.optimizer.eta*0.5}) # Reduce learning rate\n",
        "                            layer.b_optimizer.set_parameters({\"eta\":self.optimizer.eta*0.5})\n",
        "                        flag = 1 # flag to indicate that lr was adjusted\n",
        "                except:\n",
        "                    pass\n",
        "\n",
        "                # If lr was adjusted, break the loop\n",
        "                if flag == 1:\n",
        "                    break\n",
        "\n",
        "                # Compute gradients and update parameters for the output layer\n",
        "                self.layers[-1].a_grad = self.loss.diff(self.t_batch, self.y_batch) # gradient of loss wrt activation\n",
        "                self.layers[-1].h_grad = self.layers[-1].a_grad * self.layers[-1].activation.diff(self.layers[-1].h[:, batch*self.batch_size:(batch+1)*self.batch_size]) # wrt pre-activation\n",
        "\n",
        "                self.layers[-1].W_grad = self.layers[-1].h_grad @ self.layers[-2].a[:, batch*self.batch_size:(batch+1)*self.batch_size].T  # gradient of loss wrt weights\n",
        "                self.layers[-1].W_update = self.layers[-1].W_optimizer.get_update(self.layers[-1].W_grad) # Get weight update using optimizer\n",
        "\n",
        "                self.layers[-1].b_grad = -np.sum(self.layers[-1].h_grad, axis=1).reshape(-1,1)  # gradient of loss wrt biases\n",
        "                self.layers[-1].b_update = self.layers[-1].b_optimizer.get_update(self.layers[-1].b_grad) # Get bias update using optimizer\n",
        "\n",
        "\n",
        "\n",
        "                # Backpropogation for the remaining layers\n",
        "                for i in range(len(self.layers[:-2]), 0, -1):\n",
        "                    self.layers[i].a_grad = self.layers[i+1].W.T @ self.layers[i+1].h_grad\n",
        "                    self.layers[i].h_grad = self.layers[i].a_grad * self.layers[i].activation.diff(self.layers[i].h[:, batch*self.batch_size:(batch+1)*self.batch_size])\n",
        "\n",
        "                    self.layers[i].b_grad = -np.sum(self.layers[i].h_grad, axis=1).reshape(-1,1)\n",
        "                    self.layers[i].W_grad = self.layers[i].h_grad @ self.layers[i-1].a[:, batch*self.batch_size:(batch+1)*self.batch_size].T\n",
        "\n",
        "                    self.layers[i].W_update = self.layers[i].W_optimizer.get_update(self.layers[i].W_grad)\n",
        "                    self.layers[i].b_update = self.layers[i].b_optimizer.get_update(self.layers[i].b_grad)\n",
        "\n",
        "                # Update the weights and biases\n",
        "                for i, layer in enumerate(self.layers[1:]):\n",
        "                    layer.W = layer.W - layer.W_update\n",
        "                    layer.b = layer.b - layer.b_update\n",
        "\n",
        "\n",
        "                # forward propagation for the next iteration\n",
        "                self.forward_propogation()\n",
        "\n",
        "            # If learning rate was adjusted, break from the loop\n",
        "            if flag == 1:\n",
        "                break\n",
        "\n",
        "####################################################################\n",
        "##    Get_Accuracy and check_test methods, to describe the purpose and functionality of the code\n",
        "####################################################################\n",
        "\n",
        "    def get_accuracy(self, validation=False, print_values=False):\n",
        "        encoder = OneHotEncoder()\n",
        "        t_train = encoder.inverse_transform(self.target_data)\n",
        "        y_train = encoder.inverse_transform(self.layers[-1].y)\n",
        "\n",
        "        # Compute training accuracy\n",
        "        acc_train = np.sum(t_train==y_train)\n",
        "\n",
        "        if print_values:\n",
        "            print(\"Accuracy of train data set:\", acc_train)\n",
        "\n",
        "        if validation:\n",
        "            t_val = encoder.inverse_transform(self.t_val)\n",
        "            y_val = encoder.inverse_transform(self.layers[-1].y_val)\n",
        "\n",
        "            # Compute validation accuracy\n",
        "            acc_val = np.sum(t_val==y_val)\n",
        "\n",
        "            if print_values:\n",
        "                print(\"Accuracy of Validation data set:\", acc_val)\n",
        "            return acc_train, acc_val\n",
        "        return acc_train\n",
        "\n",
        "\n",
        "    def check_test(self, X_test, t_test):\n",
        "        # Set input data for the first layer\n",
        "        self.layers[0].a_test = X_test\n",
        "\n",
        "        # Forward pass for testing data\n",
        "        for i in range(1, len(self.layers)):\n",
        "            self.layers[i].h_test = self.layers[i].W @ self.layers[i-1].a_test - self.layers[i].b # Pri-activation\n",
        "            self.layers[i].a_test = self.layers[i].activation.value(self.layers[i].h_test) # Activation\n",
        "\n",
        "        # Compute predicted values for testing data\n",
        "        if self.loss==\"Cross_Entropy\":\n",
        "            self.layers[-1].y_test = Softmax().value(self.layers[-1].a_test)\n",
        "        else:\n",
        "            self.layers[-1].y_test = self.layers[-1].a_test\n",
        "\n",
        "        # Compute loss and accuracy for testing data\n",
        "        loss_test = self.loss.find_loss(t_test, self.layers[-1].y_test)\n",
        "\n",
        "        encoder = OneHotEncoder()\n",
        "        y_tmp = encoder.inverse_transform(self.layers[-1].y_test)\n",
        "        t_tmp = encoder.inverse_transform(t_test)\n",
        "        acc_test = np.sum(y_tmp==t_tmp)\n",
        "\n",
        "        # Testing accuracy, testing loss, and predicted values\n",
        "        return acc_test, loss_test, y_tmp\n"
      ],
      "metadata": {
        "id": "SZIR3XXXdW7V"
      },
      "execution_count": null,
      "outputs": []
    },
    {
      "cell_type": "code",
      "source": [
        "import matplotlib.pyplot as plt\n",
        "from keras.datasets import fashion_mnist\n",
        "from sklearn.model_selection import train_test_split\n",
        "from sklearn.metrics import classification_report, accuracy_score, confusion_matrix\n",
        "import seaborn as sns\n"
      ],
      "metadata": {
        "id": "q0PIYmKMCGnM"
      },
      "execution_count": null,
      "outputs": []
    },
    {
      "cell_type": "code",
      "source": [
        "\n",
        "Dic_optimizers = {\"SGD\":do_stochastic_gradient_descent(), \"Momentum_GD\":do_momentum_based_gradient_descent(), \"NAG\":do_nesterov_accelerated_gradient_descent(), \"RMS_Prop\":do_rmsprop(), \"Adam\":do_adam(), \"Nadam\":do_nadam()}\n",
        "\n",
        "#################################################################\n",
        "# Performing Scaling and Encoding transformations on the data\n",
        "\n",
        "encoder = OneHotEncoder()\n",
        "target_data = encoder.fit_transform(y_train, 10)\n",
        "t_val = encoder.fit_transform(y_val, 10)\n",
        "t_test = encoder.fit_transform(y_test, 10)\n",
        "print(\"Done!\")\n",
        "\n",
        "X_scaled = X_scaled[:, :2000]\n",
        "X_val_scaled = X_val_scaled[:, :500]\n",
        "target_data = target_data[:,:2000]\n",
        "t_val = t_val[:, :500]\n",
        "\n",
        "#################################################################\n",
        "layers = [Input_Layer(data=X_scaled),\n",
        "          Dense_Layer(size=64, activation=\"Sigmoid\", name=\"HL1\"),\n",
        "          Dense_Layer(size=10, activation=\"Sigmoid\", name=\"OL\")]\n",
        "\n",
        "model = FeedForward_NeuralNetwork(layers=layers, batch_size=2000, optimizer=\"Nadam\", \\\n",
        "                      initialization=\"random\", loss=\"Squared_Error\", \\\n",
        "                      epochs=int(100), target_data=target_data, X_val=X_val_scaled, t_val=t_val, \\\n",
        "                      wandblogging=False)\n",
        "\n",
        "model.forward_propogation()\n",
        "first_pass_y = model.layers[-1].y\n",
        "model.backward_propogation()\n",
        "\n",
        "acc_val, loss_val, _ = model.check_test(X_val_scaled, t_val)\n",
        "acc_test, loss_test, _ = model.check_test(X_test_scaled, t_test)\n",
        "\n",
        "print(\"-\"*60)\n",
        "print(\"Training Data\")\n",
        "print(\"Fraction Correctly classified in untrained network:\", np.sum(np.argmax(first_pass_y, axis=0) == y_train[:2000])/2000)\n",
        "print(\"Fraction Correctly classified in trained network:\", np.sum(np.argmax((model.layers[-1].y), axis=0) == y_train[:2000])/2000)\n",
        "\n",
        "print(\"-\"*60)\n",
        "print(\"Validation Data\")\n",
        "print(\"Fraction Correctly classified in trained network:\", acc_val/t_val.shape[1])\n",
        "\n",
        "print(\"-\"*60)\n",
        "print(\"Testing Data\")\n",
        "print(\"Fraction Correctly classified in trained network:\", acc_test/t_test.shape[1])\n",
        "\n",
        "#################################################################\n",
        "plt.figure()\n",
        "plt.plot(np.array(model.accuracy_hist_val)/500, label=\"training accuracy\")\n",
        "plt.plot(np.array(model.accuracy_hist)/2000, label=\"validation accuracy\")\n",
        "plt.title(\"Accuracy of the model\")\n",
        "plt.legend()\n",
        "plt.grid()\n",
        "plt.show()\n",
        "\n",
        "plt.figure()\n",
        "plt.plot(np.array(model.loss_hist)/2000, label=\"training loss\")\n",
        "plt.plot(np.array(model.loss_hist_val)/500, label=\"validation loss\")\n",
        "plt.title(\"Loss of the model\")\n",
        "plt.legend()\n",
        "plt.grid()\n",
        "plt.show()\n"
      ],
      "metadata": {
        "colab": {
          "base_uri": "https://localhost:8080/",
          "height": 1000
        },
        "id": "I1CSfWkIe8vX",
        "outputId": "696d08c4-5b6a-4e21-f4a1-e7383f25d0e8"
      },
      "execution_count": null,
      "outputs": [
        {
          "output_type": "stream",
          "name": "stdout",
          "text": [
            "Done!\n"
          ]
        },
        {
          "output_type": "stream",
          "name": "stderr",
          "text": [
            "100%|██████████| 100/100 [00:02<00:00, 37.30it/s]\n"
          ]
        },
        {
          "output_type": "stream",
          "name": "stdout",
          "text": [
            "------------------------------------------------------------\n",
            "Training Data\n",
            "Fraction Correctly classified in untrained network: 0.045\n",
            "Fraction Correctly classified in trained network: 0.4165\n",
            "------------------------------------------------------------\n",
            "Validation Data\n",
            "Fraction Correctly classified in trained network: 0.4\n",
            "------------------------------------------------------------\n",
            "Testing Data\n",
            "Fraction Correctly classified in trained network: 0.4177\n"
          ]
        },
        {
          "output_type": "display_data",
          "data": {
            "text/plain": [
              "<Figure size 640x480 with 1 Axes>"
            ],
            "image/png": "[encoded data removed]"
          },
          "metadata": {}
        },
        {
          "output_type": "display_data",
          "data": {
            "text/plain": [
              "<Figure size 640x480 with 1 Axes>"
            ],
            "image/png": "[encoded data removed]"
          },
          "metadata": {}
        }
      ]
    },
    {
      "cell_type": "markdown",
      "source": [
        "## Q.4"
      ],
      "metadata": {
        "id": "BBzEC-iQLCLO"
      }
    },
    {
      "cell_type": "code",
      "source": [
        "\n",
        "X_scaled = X_scaled[:, :6000]\n",
        "X_test_scaled = X_test_scaled[:, :2000]\n",
        "target_data = target_data[:, :6000]\n",
        "t_test = t_test[:, :2000]\n",
        "\n",
        "sweep_config = {\"name\": \"complete-sweep\", \"method\": \"grid\"}\n",
        "sweep_config[\"metric\"] = {\"name\": \"loss\", \"goal\": \"minimize\"}\n",
        "\n",
        "parameters_dict = {\n",
        "    \"num_epochs\": {\"values\": [5, 10]},\n",
        "    \"num_hidden_layers\": {\"values\": [3, 4, 5]},\n",
        "    \"size_hidden_layer\": {\"values\": [32, 64, 128]},\n",
        "    \"learning_rate\": {\"values\": [1e-3, 1e-4]},\n",
        "    \"optimizer\": {\"values\": [\"SGD\", \"Momentum_GD\", \"NAG\", \"RMS_Prop\", \"Adam\", \"Nadam\"]},\n",
        "    \"batch_size\": {\"values\": [16, 32, 64]},\n",
        "    \"weight_init\": {\"values\": [\"random\", \"xavier\"]},\n",
        "    \"activation\": {\"values\": [\"Sigmoid\", \"Tanh\", \"Relu\"]},\n",
        "    \"loss\": {\"values\": [\"Cross_Entropy\", \"Squared_Error\"]},\n",
        "}\n",
        "\n",
        "sweep_config[\"parameters\"] = parameters_dict\n",
        "\n",
        "for i in sweep_config:\n",
        "    print(i, sweep_config[i])\n",
        "\n",
        "\n",
        "def train_Neural_Network(config = sweep_config):\n",
        "    print(config)\n",
        "    with wandb.init(project=\"Assignment1\", entity=\"cs6910jananiteam\", config=config):\n",
        "        config = wandb.init().config\n",
        "        wandb.run.name = \"e_{}_hl_{}_opt_{}_bs_{}_init_{}_ac_{}_loss_{}\".format(config.num_epochs,\\\n",
        "                                                                          config.size_hidden_layer,\\\n",
        "                                                                          config.optimizer,\\\n",
        "                                                                          config.batch_size,\\\n",
        "                                                                          config.weight_init,\\\n",
        "                                                                          config.activation,\\\n",
        "                                                                          config.loss)\n",
        "\n",
        "    layers = [Input_Layer(data=X_scaled),\n",
        "              Dense_Layer(size=config[\"size_hidden_layer\"], activation=config[\"activation\"], name=\"HL1\"),\n",
        "              Dense_Layer(size=10, activation=config[\"activation\"], name=\"OL\")]\n",
        "\n",
        "    new_model = FeedForward_NeuralNetwork(layers=layers, batch_size=config.batch_size, \\\n",
        "                                 optimizer=config.optimizer, initialization=config.weight_init, \\\n",
        "                                 epochs=config.num_epochs, target_data = target_data, X_val=X_val_scaled, \\\n",
        "                                 t_val=t_val, loss=config.loss, wandblogging=True)#, \\\n",
        "                                #  optim_params={\"eta\":config.learning_rate})\n",
        "\n",
        "    new_model.forward_propogation()\n",
        "    new_model.backward_propogation()\n",
        "    acc_val, loss_val, _ = new_model.check_test(X_val_scaled, t_val)\n",
        "    acc_test, loss_test, _ = new_model.check_test(X_test_scaled, t_test)\n",
        "\n",
        "    wandb.log({\"val_loss_end\": loss_val/t_val.shape[1], \\\n",
        "                   \"val_acc_end\": acc_val/t_val.shape[1], \\\n",
        "                   \"test_loss_end\": loss_test/t_test.shape[1], \\\n",
        "                   \"test_acc_end\": acc_test/t_test.shape[1], \\\n",
        "                   \"epoch\":config.num_epochs})\n",
        "\n",
        "# ####################################################################\n",
        "sweep_id = wandb.sweep(sweep_config, project = \"Assignment1\")\n",
        "wandb.agent(sweep_id, function = train_Neural_Network)\n",
        "# #################################################################### [markdown]"
      ],
      "metadata": {
        "id": "bfG8KwBjf2zm",
        "colab": {
          "base_uri": "https://localhost:8080/"
        },
        "outputId": "2fe701fc-daef-4701-b155-49a5d5077913"
      },
      "execution_count": null,
      "outputs": [
        {
          "output_type": "stream",
          "name": "stdout",
          "text": [
            "name complete-sweep\n",
            "method grid\n",
            "metric {'name': 'loss', 'goal': 'minimize'}\n",
            "parameters {'num_epochs': {'values': [5, 10]}, 'num_hidden_layers': {'values': [3, 4, 5]}, 'size_hidden_layer': {'values': [32, 64, 128]}, 'learning_rate': {'values': [0.001, 0.0001]}, 'optimizer': {'values': ['SGD', 'Momentum_GD', 'NAG', 'RMS_Prop', 'Adam', 'Nadam']}, 'batch_size': {'values': [16, 32, 64]}, 'weight_init': {'values': ['random', 'xavier']}, 'activation': {'values': ['Sigmoid', 'Tanh', 'Relu']}, 'loss': {'values': ['Cross_Entropy', 'Squared_Error']}}\n",
            "Create sweep with ID: r61ya0um\n",
            "Sweep URL: https://wandb.ai/lokendrakumar/Assignment1/sweeps/r61ya0um\n"
          ]
        },
        {
          "output_type": "stream",
          "name": "stderr",
          "text": [
            "\u001b[34m\u001b[1mwandb\u001b[0m: Ctrl + C detected. Stopping sweep.\n"
          ]
        }
      ]
    },
    {
      "cell_type": "code",
      "source": [
        "# Example configuration, replace this with your desired configuration\n",
        "config = {\n",
        "\n",
        "    \"num_epochs\": 1,\n",
        "    \"num_hidden_layers\": 3,\n",
        "    \"size_hidden_layer\": 64,\n",
        "    \"optimizer\": \"Adam\",\n",
        "    \"batch_size\": 4,\n",
        "    \"weight_init\": \"xavier\",\n",
        "    \"activation\": \"Relu\",\n",
        "    \"loss\": \"Cross_Entropy\"\n",
        "}\n",
        "\n",
        "# Call the function with the specified configuration\n",
        "train_Neural_Network(config)"
      ],
      "metadata": {
        "colab": {
          "base_uri": "https://localhost:8080/"
        },
        "id": "rnmG3DQKJiBm",
        "outputId": "3b5f5ec8-475b-4f31-bfd3-999575ccf9ac"
      },
      "execution_count": null,
      "outputs": [
        {
          "output_type": "stream",
          "name": "stdout",
          "text": [
            "{'num_epochs': 1, 'num_hidden_layers': 3, 'size_hidden_layer': 64, 'optimizer': 'Adam', 'batch_size': 4, 'weight_init': 'xavier', 'activation': 'Relu', 'loss': 'Cross_Entropy'}\n"
          ]
        },
        {
          "output_type": "stream",
          "name": "stderr",
          "text": [
            "100%|██████████| 1/1 [00:07<00:00,  7.25s/it]\n"
          ]
        }
      ]
    },
    {
      "cell_type": "markdown",
      "source": [
        "## Q.7"
      ],
      "metadata": {
        "id": "CLw1cBBjLVsv"
      }
    },
    {
      "cell_type": "code",
      "source": [
        "# sweep_config = {\"name\": \"best-sweep\", \"method\": \"grid\"}\n",
        "# sweep_config[\"metric\"] = {\"name\": \"loss\", \"goal\": \"minimize\"}\n",
        "\n",
        "parameters_dict = {\n",
        "    \"num_epochs\": {\"values\": [1]},\n",
        "    \"size_hidden_layer\": {\"values\": [64]},\n",
        "    \"optimizer\": {\"values\": [\"Adam\"]},\n",
        "    \"batch_size\": {\"values\": [128]},\n",
        "    \"weight_init\": {\"values\": [\"xavier\"]},\n",
        "    \"activation\": {\"values\": [\"Sigmoid\"]},\n",
        "    \"loss\": {\"values\": [\"Cross_Entropy\"]},\n",
        "}\n",
        "\n",
        "# Commented out sweep_config and parameters assignment\n",
        "# sweep_config[\"parameters\"] = parameters_dict\n",
        "\n",
        "y_test_pred = 0\n",
        "\n",
        "# Removed wandb related code\n",
        "def train_nn(config):\n",
        "    print(config)\n",
        "    global y_test_pred\n",
        "\n",
        "    layers = [Input_Layer(data=X_scaled),\n",
        "              Dense_Layer(size=config['size_hidden_layer'], activation=config['activation'], name=\"HL1\"),\n",
        "              Dense_Layer(size=10, activation=config['activation'], name=\"OL\")]\n",
        "\n",
        "    New_model = FeedForward_NeuralNetwork(layers=layers, batch_size=config['batch_size'],\n",
        "                             optimizer=config['optimizer'], initialization=config['weight_init'],\n",
        "                             epochs=config['num_epochs'], target_data=target_data, X_val=X_val_scaled,\n",
        "                             t_val=t_val, loss=config['loss'], wandblogging=True)\n",
        "\n",
        "    New_model.forward_propogation()\n",
        "    first_pass_y = New_model.layers[-1].y\n",
        "    New_model.backward_propogation()\n",
        "    acc_val, loss_val, _ = New_model.check_test(X_val_scaled, t_val)\n",
        "    acc_test, loss_test, y_test_pred = New_model.check_test(X_test_scaled, t_test)\n",
        "\n",
        "    # Removed wandb.log and wandb related code\n",
        "\n",
        "    cf_matrix = confusion_matrix(y_test, y_test_pred)\n",
        "    sns.heatmap(cf_matrix)\n",
        "    plt.title(\"Confusion Matrix\")\n",
        "\n",
        "    data = [[x, y] for (x, y) in zip(y_test, y_test_pred)]\n",
        "\n",
        "    return\n",
        "\n",
        "    # Removed wandb.Table and wandb.sklearn.plot_confusion_matrix related code\n",
        "    # print(y_test.shape, y_test_pred.shape)\n",
        "    # test_images = X_test_scaled[y_test == y_test_pred]\n",
        "\n",
        "# Commented out sweep_id and wandb.agent related code\n",
        "# sweep_id = wandb.sweep(sweep_config, project=\"Assignment1\")\n",
        "# wandb.agent(sweep_id, function=train_nn)\n",
        "\n",
        "\n",
        "        # wandb.log({\"conf_mat\" : wandb.plot.confusion_matrix(\n",
        "        #                 probs=None,\n",
        "        #                 y_true=y_test[:9000],\n",
        "        #                 preds=y_test_pred,\n",
        "        #                 class_names=[\"T-shirt/top\",\"Trouser\",\"Pullover\",\"Dress\",\"Coat\",\"Sandal\",\"Shirt\",\"Sneaker\",\"Bag\",\"Ankle boot\"])})\n",
        "\n",
        "\n",
        "# sweep_id = wandb.sweep(sweep_config, project = \"Assignment1\")\n",
        "# wandb.agent(sweep_id, function = train_nn)\n",
        "#################################################################### [markdown]"
      ],
      "metadata": {
        "id": "vZFtedzOKRON"
      },
      "execution_count": null,
      "outputs": []
    },
    {
      "cell_type": "code",
      "source": [
        "# Sample configuration, replace it with the desired values\n",
        "config = {\n",
        "    \"num_epochs\": 1,\n",
        "    \"size_hidden_layer\": 64,\n",
        "    \"optimizer\": \"Adam\",\n",
        "    \"batch_size\": 4,\n",
        "    \"weight_init\": \"xavier\",\n",
        "    \"activation\": \"Sigmoid\",\n",
        "    \"loss\": \"Cross_Entropy\",\n",
        "}\n",
        "\n",
        "# Call the train_nn function with the configuration\n",
        "train_nn(config)"
      ],
      "metadata": {
        "colab": {
          "base_uri": "https://localhost:8080/",
          "height": 487
        },
        "id": "Cz-Je36iM7FY",
        "outputId": "2e468f95-3d1e-4d2a-9528-cedacce8e64a"
      },
      "execution_count": null,
      "outputs": [
        {
          "output_type": "stream",
          "name": "stdout",
          "text": [
            "{'num_epochs': 1, 'size_hidden_layer': 64, 'optimizer': 'Adam', 'batch_size': 4, 'weight_init': 'xavier', 'activation': 'Sigmoid', 'loss': 'Cross_Entropy'}\n"
          ]
        },
        {
          "output_type": "stream",
          "name": "stderr",
          "text": [
            "100%|██████████| 1/1 [00:09<00:00,  9.99s/it]\n"
          ]
        },
        {
          "output_type": "display_data",
          "data": {
            "text/plain": [
              "<Figure size 640x480 with 2 Axes>"
            ],
            "image/png": "[encoded data removed]"
          },
          "metadata": {}
        }
      ]
    },
    {
      "cell_type": "markdown",
      "source": [
        "## Q.10"
      ],
      "metadata": {
        "id": "IPfLOGM1VOYT"
      }
    },
    {
      "cell_type": "code",
      "source": [
        "\n",
        "from keras.datasets import fashion_mnist, mnist\n",
        "\n",
        "print(\"Loading data... \", end=\"\")\n",
        "[(x_train, train_y_labels), (x_test, test_y_labels)] = mnist.load_data()\n",
        "x_train, x_val, train_y_labels, val_y_labels = train_test_split(x_train, train_y_labels, test_size=0.2, random_state=2)\n",
        "\n",
        "print(\"Size of Training data:\", x_train.shape)\n",
        "print(\"Size of Validation data:\", x_val.shape)\n",
        "\n",
        "print(\"Performing Scaling and Encoding transformations on the data... \", end=\"\")\n",
        "\n",
        "normalizedX = x_train / 255\n",
        "normalized_xval = x_val / 255\n",
        "normalized_xtest = x_test / 255\n",
        "\n",
        "normalizedX = normalizedX.reshape(normalizedX.shape[0], normalizedX.shape[1]*normalizedX.shape[2]).T\n",
        "normalized_xval = normalized_xval.reshape(normalized_xval.shape[0], normalized_xval.shape[1]*normalized_xval.shape[2]).T\n",
        "normalized_xtest = normalized_xtest.reshape(normalized_xtest.shape[0], normalized_xtest.shape[1]*normalized_xtest.shape[2]).T\n",
        "\n",
        "encoder = OneHotEncoder()\n",
        "target_data = encoder.fit_transform(y_train, 10)\n",
        "t_val = encoder.fit_transform(y_val, 10)\n",
        "t_test = encoder.fit_transform(y_test, 10)\n",
        "print(\"Done!\")\n",
        "\n",
        "\n",
        "\n",
        "normalizedX = normalizedX\n",
        "normalized_xval = normalized_xval\n",
        "target_data = target_data\n",
        "t_val = t_val\n",
        "\n",
        "\n",
        "#################################################################\n",
        "layers = [Input_Layer(data = normalizedX),\n",
        "          Dense_Layer(size=128, activation=\"Relu\", name=\"HiddenLayer1\"),\n",
        "          Dense_Layer(size=128, activation=\"Relu\", name=\"HiddenLayer2\"),\n",
        "          Dense_Layer(size=128, activation=\"Relu\", name=\"HiddenLayer2\"),\n",
        "          Dense_Layer(size=10, activation=\"Sigmoid\", name=\"OutputLayer\")]\n",
        "\n",
        "DLModel = FeedForward_NeuralNetwork(layers=layers, batch_size=128, optimizer=\"Nadam\", \\\n",
        "                      initialization=\"xavier\", loss=\"Cross_Entropy\", \\\n",
        "                      epochs=int(10), target_data=target_data, X_val=normalized_xval, t_val=t_val, \\\n",
        "                      wandblogging=False)\n",
        "\n",
        "DLModel.forward_propogation()\n",
        "SinglePass = DLModel.layers[-1].y\n",
        "DLModel.backward_propogation()\n",
        "\n",
        "\n",
        "#################################################################\n",
        "\n",
        "\n",
        "acc_val, loss_val, _ = DLModel.TestingData(normalized_xval, t_val)\n",
        "acc_test, loss_test, _ = DLModel.TestingData(normalized_xtest, t_test)\n",
        "\n",
        "print('-------------------------------')\n",
        "print(\"Training Data\")\n",
        "print(\"Fraction Correctly classified in untrained network:\", np.sum(np.argmax(SinglePass, axis=0) == train_y_labels[:2000])/2000)\n",
        "print(\"Fraction Correctly classified in trained network:\", np.sum(np.argmax((DLModel.layers[-1].y), axis=0) == train_y_labels[:2000])/2000)\n",
        "\n",
        "print('-------------------------------')\n",
        "print(\"Validation Data\")\n",
        "print(\"Fraction Correctly classified in trained network:\", acc_val/t_val.shape[1])\n",
        "\n",
        "print('-------------------------------')\n",
        "print(\"Testing Data\")\n",
        "print(\"Fraction Correctly classified in trained network:\", acc_test/t_test.shape[1])\n",
        "\n",
        "#################################################################\n",
        "plt.figure()\n",
        "plt.plot(np.array(DLModel.accuracy_hist_val)/500, label=\"training accuracy\")\n",
        "plt.plot(np.array(DLModel.accuracy_hist)/2000, label=\"validation accuracy\")\n",
        "plt.title(\"Accuracy of the model\")\n",
        "plt.legend()\n",
        "plt.grid()\n",
        "plt.show()\n",
        "\n",
        "plt.figure()\n",
        "plt.plot(np.array(DLModel.loss_hist)/2000, label=\"training loss\")\n",
        "plt.plot(np.array(DLModel.loss_hist_val)/500, label=\"validation loss\")\n",
        "plt.title(\"Loss of the model\")\n",
        "plt.legend()\n",
        "plt.grid()\n",
        "plt.show()"
      ],
      "metadata": {
        "colab": {
          "base_uri": "https://localhost:8080/",
          "height": 425
        },
        "id": "3aWtPPrmNTe4",
        "outputId": "4f58a8cc-ec1f-474e-9559-ea7efe92ba75"
      },
      "execution_count": null,
      "outputs": [
        {
          "output_type": "stream",
          "name": "stdout",
          "text": [
            "Loading data... Size of Training data: (48000, 28, 28)\n",
            "Size of Validation data: (12000, 28, 28)\n",
            "Performing Scaling and Encoding transformations on the data... Done!\n"
          ]
        },
        {
          "output_type": "stream",
          "name": "stderr",
          "text": [
            " 10%|█         | 1/10 [07:30<1:07:37, 450.82s/it]\n"
          ]
        },
        {
          "output_type": "error",
          "ename": "KeyboardInterrupt",
          "evalue": "",
          "traceback": [
            "\u001b[0;31m---------------------------------------------------------------------------\u001b[0m",
            "\u001b[0;31mKeyboardInterrupt\u001b[0m                         Traceback (most recent call last)",
            "\u001b[0;32m<ipython-input-64-45174ddf7bdd>\u001b[0m in \u001b[0;36m<cell line: 48>\u001b[0;34m()\u001b[0m\n\u001b[1;32m     46\u001b[0m \u001b[0mDLModel\u001b[0m\u001b[0;34m.\u001b[0m\u001b[0mforward_propogation\u001b[0m\u001b[0;34m(\u001b[0m\u001b[0;34m)\u001b[0m\u001b[0;34m\u001b[0m\u001b[0;34m\u001b[0m\u001b[0m\n\u001b[1;32m     47\u001b[0m \u001b[0mSinglePass\u001b[0m \u001b[0;34m=\u001b[0m \u001b[0mDLModel\u001b[0m\u001b[0;34m.\u001b[0m\u001b[0mlayers\u001b[0m\u001b[0;34m[\u001b[0m\u001b[0;34m-\u001b[0m\u001b[0;36m1\u001b[0m\u001b[0;34m]\u001b[0m\u001b[0;34m.\u001b[0m\u001b[0my\u001b[0m\u001b[0;34m\u001b[0m\u001b[0;34m\u001b[0m\u001b[0m\n\u001b[0;32m---> 48\u001b[0;31m \u001b[0mDLModel\u001b[0m\u001b[0;34m.\u001b[0m\u001b[0mbackward_propogation\u001b[0m\u001b[0;34m(\u001b[0m\u001b[0;34m)\u001b[0m\u001b[0;34m\u001b[0m\u001b[0;34m\u001b[0m\u001b[0m\n\u001b[0m\u001b[1;32m     49\u001b[0m \u001b[0;34m\u001b[0m\u001b[0m\n\u001b[1;32m     50\u001b[0m \u001b[0;34m\u001b[0m\u001b[0m\n",
            "\u001b[0;32m<ipython-input-49-688d977da221>\u001b[0m in \u001b[0;36mbackward_propogation\u001b[0;34m(self)\u001b[0m\n\u001b[1;32m    209\u001b[0m \u001b[0;34m\u001b[0m\u001b[0m\n\u001b[1;32m    210\u001b[0m \u001b[0;34m\u001b[0m\u001b[0m\n\u001b[0;32m--> 211\u001b[0;31m                 \u001b[0mself\u001b[0m\u001b[0;34m.\u001b[0m\u001b[0mforward_propogation\u001b[0m\u001b[0;34m(\u001b[0m\u001b[0;34m)\u001b[0m\u001b[0;34m\u001b[0m\u001b[0;34m\u001b[0m\u001b[0m\n\u001b[0m\u001b[1;32m    212\u001b[0m \u001b[0;34m\u001b[0m\u001b[0m\n\u001b[1;32m    213\u001b[0m             \u001b[0;32mif\u001b[0m \u001b[0mflag\u001b[0m \u001b[0;34m==\u001b[0m \u001b[0;36m1\u001b[0m\u001b[0;34m:\u001b[0m\u001b[0;34m\u001b[0m\u001b[0;34m\u001b[0m\u001b[0m\n",
            "\u001b[0;32m<ipython-input-49-688d977da221>\u001b[0m in \u001b[0;36mforward_propogation\u001b[0;34m(self)\u001b[0m\n\u001b[1;32m     64\u001b[0m             \u001b[0;31m# Validation\u001b[0m\u001b[0;34m\u001b[0m\u001b[0;34m\u001b[0m\u001b[0m\n\u001b[1;32m     65\u001b[0m             \u001b[0mself\u001b[0m\u001b[0;34m.\u001b[0m\u001b[0mlayers\u001b[0m\u001b[0;34m[\u001b[0m\u001b[0mi\u001b[0m\u001b[0;34m]\u001b[0m\u001b[0;34m.\u001b[0m\u001b[0mh_val\u001b[0m \u001b[0;34m=\u001b[0m \u001b[0mself\u001b[0m\u001b[0;34m.\u001b[0m\u001b[0mlayers\u001b[0m\u001b[0;34m[\u001b[0m\u001b[0mi\u001b[0m\u001b[0;34m]\u001b[0m\u001b[0;34m.\u001b[0m\u001b[0mWeights\u001b[0m \u001b[0;34m@\u001b[0m \u001b[0mself\u001b[0m\u001b[0;34m.\u001b[0m\u001b[0mlayers\u001b[0m\u001b[0;34m[\u001b[0m\u001b[0mi\u001b[0m\u001b[0;34m-\u001b[0m\u001b[0;36m1\u001b[0m\u001b[0;34m]\u001b[0m\u001b[0;34m.\u001b[0m\u001b[0ma_val\u001b[0m \u001b[0;34m-\u001b[0m \u001b[0mself\u001b[0m\u001b[0;34m.\u001b[0m\u001b[0mlayers\u001b[0m\u001b[0;34m[\u001b[0m\u001b[0mi\u001b[0m\u001b[0;34m]\u001b[0m\u001b[0;34m.\u001b[0m\u001b[0mBiases\u001b[0m\u001b[0;34m\u001b[0m\u001b[0;34m\u001b[0m\u001b[0m\n\u001b[0;32m---> 66\u001b[0;31m             \u001b[0mself\u001b[0m\u001b[0;34m.\u001b[0m\u001b[0mlayers\u001b[0m\u001b[0;34m[\u001b[0m\u001b[0mi\u001b[0m\u001b[0;34m]\u001b[0m\u001b[0;34m.\u001b[0m\u001b[0ma_val\u001b[0m \u001b[0;34m=\u001b[0m \u001b[0mself\u001b[0m\u001b[0;34m.\u001b[0m\u001b[0mlayers\u001b[0m\u001b[0;34m[\u001b[0m\u001b[0mi\u001b[0m\u001b[0;34m]\u001b[0m\u001b[0;34m.\u001b[0m\u001b[0mactivation\u001b[0m\u001b[0;34m.\u001b[0m\u001b[0mvalue\u001b[0m\u001b[0;34m(\u001b[0m\u001b[0mself\u001b[0m\u001b[0;34m.\u001b[0m\u001b[0mlayers\u001b[0m\u001b[0;34m[\u001b[0m\u001b[0mi\u001b[0m\u001b[0;34m]\u001b[0m\u001b[0;34m.\u001b[0m\u001b[0mh_val\u001b[0m\u001b[0;34m)\u001b[0m\u001b[0;34m\u001b[0m\u001b[0;34m\u001b[0m\u001b[0m\n\u001b[0m\u001b[1;32m     67\u001b[0m \u001b[0;34m\u001b[0m\u001b[0m\n\u001b[1;32m     68\u001b[0m         \u001b[0;32mif\u001b[0m \u001b[0mself\u001b[0m\u001b[0;34m.\u001b[0m\u001b[0mloss_type\u001b[0m \u001b[0;34m==\u001b[0m \u001b[0;34m\"Cross_Entropy\"\u001b[0m\u001b[0;34m:\u001b[0m\u001b[0;34m\u001b[0m\u001b[0;34m\u001b[0m\u001b[0m\n",
            "\u001b[0;32m<ipython-input-5-ecb99f99cd33>\u001b[0m in \u001b[0;36mvalue\u001b[0;34m(self, x)\u001b[0m\n\u001b[1;32m     39\u001b[0m         \u001b[0;32mpass\u001b[0m\u001b[0;34m\u001b[0m\u001b[0;34m\u001b[0m\u001b[0m\n\u001b[1;32m     40\u001b[0m \u001b[0;34m\u001b[0m\u001b[0m\n\u001b[0;32m---> 41\u001b[0;31m     \u001b[0;32mdef\u001b[0m \u001b[0mvalue\u001b[0m\u001b[0;34m(\u001b[0m\u001b[0mself\u001b[0m\u001b[0;34m,\u001b[0m \u001b[0mx\u001b[0m\u001b[0;34m)\u001b[0m\u001b[0;34m:\u001b[0m\u001b[0;34m\u001b[0m\u001b[0;34m\u001b[0m\u001b[0m\n\u001b[0m\u001b[1;32m     42\u001b[0m       \u001b[0;31m# ReLU function: f(x) = max(0, x)\u001b[0m\u001b[0;34m\u001b[0m\u001b[0;34m\u001b[0m\u001b[0m\n\u001b[1;32m     43\u001b[0m         \u001b[0mfun_val\u001b[0m \u001b[0;34m=\u001b[0m \u001b[0mx\u001b[0m\u001b[0;34m\u001b[0m\u001b[0;34m\u001b[0m\u001b[0m\n",
            "\u001b[0;31mKeyboardInterrupt\u001b[0m: "
          ]
        }
      ]
    },
    {
      "cell_type": "code",
      "source": [],
      "metadata": {
        "id": "YVGsJX5iGI0L"
      },
      "execution_count": null,
      "outputs": []
    }
  ]
}